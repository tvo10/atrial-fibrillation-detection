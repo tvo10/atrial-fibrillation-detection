{
 "cells": [
  {
   "cell_type": "markdown",
   "metadata": {},
   "source": [
    "## Introduction"
   ]
  },
  {
   "cell_type": "markdown",
   "metadata": {},
   "source": [
    "After we're done with the [Pre-processing and Training Data Development](https://github.com/tvo10/DSCT/blob/main/First%20Capstone/afib_detection_feature_engineering.ipynb). We have 3 files:\n",
    "1. 11 features and 1 label.\n",
    "2. 13 features and 1 label.\n",
    "3. 25 features and 1 label.\n",
    "\n",
    "We do not know which dataset will help us in yielding the high accuracy score yet. As a result, in this notebook, we will read in each file and apply different algorithms to compare the accuracy score. Besides the accuracy metric, we also focus on the recall metric since we want to detect as many Atrial Fibrillation cases as possible."
   ]
  },
  {
   "cell_type": "code",
   "execution_count": 1,
   "metadata": {},
   "outputs": [],
   "source": [
    "# import essential libraries\n",
    "import pandas as pd\n",
    "import numpy as np\n",
    "import pickle\n",
    "import scipy\n",
    "from sklearn.preprocessing import MinMaxScaler, StandardScaler\n",
    "from sklearn.neighbors import KNeighborsClassifier, KNeighborsRegressor\n",
    "from sklearn.ensemble import RandomForestClassifier, RandomForestRegressor\n",
    "from sklearn.linear_model import LogisticRegression, LinearRegression, LogisticRegressionCV, SGDClassifier, RidgeClassifier\n",
    "from sklearn.metrics import accuracy_score, r2_score, mean_squared_error, mean_absolute_error, f1_score\n",
    "from sklearn.model_selection import train_test_split, cross_validate, GridSearchCV, RandomizedSearchCV\n",
    "from sklearn.feature_selection import SelectKBest, f_regression\n",
    "from sklearn import svm, linear_model\n",
    "from sklearn import tree, metrics\n",
    "from sklearn.metrics import classification_report\n",
    "import warnings\n",
    "warnings.filterwarnings('ignore')\n",
    "from sklearn.preprocessing import LabelEncoder\n",
    "import lightgbm\n",
    "from bayes_opt import BayesianOptimization\n",
    "from catboost import CatBoostClassifier, cv, Pool\n",
    "import gzip"
   ]
  },
  {
   "cell_type": "markdown",
   "metadata": {},
   "source": [
    "## (1) 11 Features and 1 Label"
   ]
  },
  {
   "cell_type": "markdown",
   "metadata": {},
   "source": [
    "**10 Features:**\n",
    "* age\n",
    "* sex\n",
    "* height\n",
    "* weight\n",
    "* heart_axis\n",
    "* validated_by\n",
    "* second_opinion\n",
    "* validated_by_human\n",
    "* pacemaker\n",
    "* strat_fold\n",
    "\n",
    "**1 Label:**\n",
    "* ritmi\n",
    "\n",
    "This csv file consists of 1803 observations and 11 variables. In brief, we already dropped the missing values for the height and weight columns."
   ]
  },
  {
   "cell_type": "code",
   "execution_count": 2,
   "metadata": {},
   "outputs": [
    {
     "name": "stdout",
     "output_type": "stream",
     "text": [
      "(1803, 11)\n"
     ]
    },
    {
     "data": {
      "text/html": [
       "<div>\n",
       "<style scoped>\n",
       "    .dataframe tbody tr th:only-of-type {\n",
       "        vertical-align: middle;\n",
       "    }\n",
       "\n",
       "    .dataframe tbody tr th {\n",
       "        vertical-align: top;\n",
       "    }\n",
       "\n",
       "    .dataframe thead th {\n",
       "        text-align: right;\n",
       "    }\n",
       "</style>\n",
       "<table border=\"1\" class=\"dataframe\">\n",
       "  <thead>\n",
       "    <tr style=\"text-align: right;\">\n",
       "      <th></th>\n",
       "      <th>ritmi</th>\n",
       "      <th>age</th>\n",
       "      <th>sex</th>\n",
       "      <th>height</th>\n",
       "      <th>weight</th>\n",
       "      <th>heart_axis</th>\n",
       "      <th>validated_by</th>\n",
       "      <th>second_opinion</th>\n",
       "      <th>validated_by_human</th>\n",
       "      <th>pacemaker</th>\n",
       "      <th>strat_fold</th>\n",
       "    </tr>\n",
       "  </thead>\n",
       "  <tbody>\n",
       "    <tr>\n",
       "      <th>0</th>\n",
       "      <td>2</td>\n",
       "      <td>29.0</td>\n",
       "      <td>1</td>\n",
       "      <td>164.0</td>\n",
       "      <td>56.0</td>\n",
       "      <td>0</td>\n",
       "      <td>0.0</td>\n",
       "      <td>0</td>\n",
       "      <td>1</td>\n",
       "      <td>0</td>\n",
       "      <td>1</td>\n",
       "    </tr>\n",
       "    <tr>\n",
       "      <th>1</th>\n",
       "      <td>0</td>\n",
       "      <td>59.0</td>\n",
       "      <td>0</td>\n",
       "      <td>156.0</td>\n",
       "      <td>75.0</td>\n",
       "      <td>0</td>\n",
       "      <td>0.0</td>\n",
       "      <td>0</td>\n",
       "      <td>1</td>\n",
       "      <td>0</td>\n",
       "      <td>9</td>\n",
       "    </tr>\n",
       "    <tr>\n",
       "      <th>2</th>\n",
       "      <td>2</td>\n",
       "      <td>84.0</td>\n",
       "      <td>1</td>\n",
       "      <td>152.0</td>\n",
       "      <td>51.0</td>\n",
       "      <td>0</td>\n",
       "      <td>0.0</td>\n",
       "      <td>0</td>\n",
       "      <td>1</td>\n",
       "      <td>0</td>\n",
       "      <td>7</td>\n",
       "    </tr>\n",
       "    <tr>\n",
       "      <th>3</th>\n",
       "      <td>0</td>\n",
       "      <td>79.0</td>\n",
       "      <td>0</td>\n",
       "      <td>172.0</td>\n",
       "      <td>66.0</td>\n",
       "      <td>0</td>\n",
       "      <td>0.0</td>\n",
       "      <td>0</td>\n",
       "      <td>1</td>\n",
       "      <td>0</td>\n",
       "      <td>5</td>\n",
       "    </tr>\n",
       "    <tr>\n",
       "      <th>4</th>\n",
       "      <td>1</td>\n",
       "      <td>67.0</td>\n",
       "      <td>0</td>\n",
       "      <td>178.0</td>\n",
       "      <td>73.0</td>\n",
       "      <td>4</td>\n",
       "      <td>0.0</td>\n",
       "      <td>0</td>\n",
       "      <td>1</td>\n",
       "      <td>0</td>\n",
       "      <td>5</td>\n",
       "    </tr>\n",
       "  </tbody>\n",
       "</table>\n",
       "</div>"
      ],
      "text/plain": [
       "   ritmi   age  sex  height  weight  heart_axis  validated_by  second_opinion  \\\n",
       "0      2  29.0    1   164.0    56.0           0           0.0               0   \n",
       "1      0  59.0    0   156.0    75.0           0           0.0               0   \n",
       "2      2  84.0    1   152.0    51.0           0           0.0               0   \n",
       "3      0  79.0    0   172.0    66.0           0           0.0               0   \n",
       "4      1  67.0    0   178.0    73.0           4           0.0               0   \n",
       "\n",
       "   validated_by_human  pacemaker  strat_fold  \n",
       "0                   1          0           1  \n",
       "1                   1          0           9  \n",
       "2                   1          0           7  \n",
       "3                   1          0           5  \n",
       "4                   1          0           5  "
      ]
     },
     "execution_count": 2,
     "metadata": {},
     "output_type": "execute_result"
    }
   ],
   "source": [
    "# read in csv \n",
    "df = pd.read_csv('training_11_features.csv')\n",
    "df = df.dropna()\n",
    "# df = df[df['ritmi'] != 0]\n",
    "df = df.reset_index(drop=True)\n",
    "print(df.shape)\n",
    "df.head()"
   ]
  },
  {
   "cell_type": "code",
   "execution_count": 3,
   "metadata": {},
   "outputs": [
    {
     "name": "stdout",
     "output_type": "stream",
     "text": [
      "<class 'pandas.core.frame.DataFrame'>\n",
      "RangeIndex: 1803 entries, 0 to 1802\n",
      "Data columns (total 11 columns):\n",
      " #   Column              Non-Null Count  Dtype\n",
      "---  ------              --------------  -----\n",
      " 0   ritmi               1803 non-null   int64\n",
      " 1   age                 1803 non-null   int64\n",
      " 2   sex                 1803 non-null   int64\n",
      " 3   height              1803 non-null   int64\n",
      " 4   weight              1803 non-null   int64\n",
      " 5   heart_axis          1803 non-null   int64\n",
      " 6   validated_by        1803 non-null   int64\n",
      " 7   second_opinion      1803 non-null   int64\n",
      " 8   validated_by_human  1803 non-null   int64\n",
      " 9   pacemaker           1803 non-null   int64\n",
      " 10  strat_fold          1803 non-null   int64\n",
      "dtypes: int64(11)\n",
      "memory usage: 155.1 KB\n"
     ]
    }
   ],
   "source": [
    "# convert all columns' types to int64\n",
    "df['age'] = df['age'].astype('int64')\n",
    "df['height'] = df['height'].astype('int64')\n",
    "df['weight'] = df['weight'].astype('int64')\n",
    "df['validated_by'] = df['validated_by'].astype('int64')\n",
    "\n",
    "# get info for columns\n",
    "df.info()"
   ]
  },
  {
   "cell_type": "code",
   "execution_count": 4,
   "metadata": {},
   "outputs": [],
   "source": [
    "# train-test split\n",
    "X = df.drop(columns='ritmi')\n",
    "y = df['ritmi']\n",
    "X_train, X_test, y_train, y_test=train_test_split(X, y, test_size = 0.25, random_state = 246)"
   ]
  },
  {
   "cell_type": "markdown",
   "metadata": {},
   "source": [
    "### Random Forest"
   ]
  },
  {
   "cell_type": "markdown",
   "metadata": {},
   "source": [
    "We used the RandomForest algorithm and tuned the model with GridSearchCV, we got 0.45 for the highest performance score (accuracy metric). Afterwards, we used the model to predict X_test. Based on the recall metric, we can conclude that the model has 47% of accurately detecting normal cases, 41% of accurately detecting Atrial Fibrillation, and 49% of accurately detecting other arrhythmia cases."
   ]
  },
  {
   "cell_type": "code",
   "execution_count": 5,
   "metadata": {},
   "outputs": [
    {
     "name": "stdout",
     "output_type": "stream",
     "text": [
      "Best Score:0.46004486939800227\n",
      "Best Parameters: {'criterion': 'entropy', 'max_depth': 60, 'n_estimators': 600}\n"
     ]
    }
   ],
   "source": [
    "# Plug in appropriate max_depth and random_state parameters\n",
    "rf = RandomForestClassifier()\n",
    "rf_param_grid = {'n_estimators': [600], 'criterion': ['entropy'], 'max_depth': [60]} #0.4615443314230772\n",
    "rf_cv= GridSearchCV(rf,rf_param_grid,cv=7,n_jobs=-1)\n",
    "rf_cv.fit(X_train,y_train)\n",
    "\n",
    "print(\"Best Score:\" + str(rf_cv.best_score_))\n",
    "print(\"Best Parameters: \" + str(rf_cv.best_params_))"
   ]
  },
  {
   "cell_type": "code",
   "execution_count": 6,
   "metadata": {},
   "outputs": [
    {
     "name": "stdout",
     "output_type": "stream",
     "text": [
      "              precision    recall  f1-score   support\n",
      "\n",
      "           0       0.45      0.44      0.45       162\n",
      "           1       0.45      0.43      0.44       117\n",
      "           2       0.44      0.47      0.45       172\n",
      "\n",
      "    accuracy                           0.45       451\n",
      "   macro avg       0.45      0.45      0.45       451\n",
      "weighted avg       0.45      0.45      0.45       451\n",
      "\n"
     ]
    }
   ],
   "source": [
    "y_pred = rf_cv.predict(X_test)\n",
    "print(classification_report(y_test, y_pred))"
   ]
  },
  {
   "cell_type": "markdown",
   "metadata": {},
   "source": [
    "### LightGBM"
   ]
  },
  {
   "cell_type": "markdown",
   "metadata": {},
   "source": [
    "We also used the LightGBM algorithm, and tuned the model with BayesianOptimization, and we got 0.64 for the highest performance score using the auc metric. We can say that the score has been improved a lot, but it is a different metric. Since the metric is not the same, we'll apply other algorithms later to see if there is another algorithm that helps improve our accuracy score."
   ]
  },
  {
   "cell_type": "code",
   "execution_count": 7,
   "metadata": {},
   "outputs": [],
   "source": [
    "def lgb_eval(num_leaves,max_depth,lambda_l2,lambda_l1,min_child_samples, min_data_in_leaf):\n",
    "    params = {\n",
    "        \"objective\" : \"binary\",\n",
    "        \"metric\" : \"auc\", \n",
    "        'is_unbalance': True,\n",
    "        \"num_leaves\" : int(num_leaves),\n",
    "        \"max_depth\" : int(max_depth),\n",
    "        \"lambda_l2\" : lambda_l2,\n",
    "        \"lambda_l1\" : lambda_l1,\n",
    "        \"num_threads\" : 20,\n",
    "        \"min_child_samples\" : int(min_child_samples),\n",
    "        'min_data_in_leaf': int(min_data_in_leaf),\n",
    "        \"learning_rate\" : 0.03,\n",
    "        \"subsample_freq\" : 5,\n",
    "        \"bagging_seed\" : 42,\n",
    "        \"verbosity\" : -1\n",
    "    }\n",
    "    lgtrain = lightgbm.Dataset(X_train, y_train)\n",
    "    cv_result = lightgbm.cv(params,\n",
    "                       lgtrain,\n",
    "                       1000,\n",
    "                       early_stopping_rounds=100,\n",
    "                       stratified=True,\n",
    "                       nfold=3)\n",
    "    return cv_result['auc-mean'][-1]"
   ]
  },
  {
   "cell_type": "code",
   "execution_count": 8,
   "metadata": {},
   "outputs": [
    {
     "name": "stdout",
     "output_type": "stream",
     "text": [
      "|   iter    |  target   | lambda_l1 | lambda_l2 | max_depth | min_ch... | min_da... | num_le... |\n",
      "-------------------------------------------------------------------------------------------------\n",
      "[LightGBM] [Warning] min_data_in_leaf is set=1488, min_child_samples=5433 will be ignored. Current value: min_data_in_leaf=1488\n",
      "| \u001b[0m 1       \u001b[0m | \u001b[0m 0.5     \u001b[0m | \u001b[0m 0.001754\u001b[0m | \u001b[0m 0.01623 \u001b[0m | \u001b[0m 13.16   \u001b[0m | \u001b[0m 5.433e+0\u001b[0m | \u001b[0m 1.488e+0\u001b[0m | \u001b[0m 1.711e+0\u001b[0m |\n",
      "| \u001b[0m 2       \u001b[0m | \u001b[0m 0.5     \u001b[0m | \u001b[0m 0.042   \u001b[0m | \u001b[0m 0.02319 \u001b[0m | \u001b[0m 49.17   \u001b[0m | \u001b[0m 1.11e+03\u001b[0m | \u001b[0m 1.822e+0\u001b[0m | \u001b[0m 1.603e+0\u001b[0m |\n",
      "| \u001b[95m 3       \u001b[0m | \u001b[95m 0.6337  \u001b[0m | \u001b[95m 0.04281 \u001b[0m | \u001b[95m 0.03493 \u001b[0m | \u001b[95m 39.03   \u001b[0m | \u001b[95m 226.1   \u001b[0m | \u001b[95m 218.8   \u001b[0m | \u001b[95m 3.964e+0\u001b[0m |\n",
      "| \u001b[0m 4       \u001b[0m | \u001b[0m 0.5     \u001b[0m | \u001b[0m 0.03825 \u001b[0m | \u001b[0m 0.01928 \u001b[0m | \u001b[0m 12.82   \u001b[0m | \u001b[0m 8.253e+0\u001b[0m | \u001b[0m 1.422e+0\u001b[0m | \u001b[0m 1.689e+0\u001b[0m |\n",
      "| \u001b[0m 5       \u001b[0m | \u001b[0m 0.5     \u001b[0m | \u001b[0m 0.002021\u001b[0m | \u001b[0m 0.04044 \u001b[0m | \u001b[0m 57.3    \u001b[0m | \u001b[0m 7.747e+0\u001b[0m | \u001b[0m 890.2   \u001b[0m | \u001b[0m 3.305e+0\u001b[0m |\n",
      "| \u001b[95m 6       \u001b[0m | \u001b[95m 0.642   \u001b[0m | \u001b[95m 0.03399 \u001b[0m | \u001b[95m 0.02087 \u001b[0m | \u001b[95m 42.14   \u001b[0m | \u001b[95m 361.3   \u001b[0m | \u001b[95m 153.9   \u001b[0m | \u001b[95m 158.1   \u001b[0m |\n",
      "| \u001b[0m 7       \u001b[0m | \u001b[0m 0.6405  \u001b[0m | \u001b[0m 0.007697\u001b[0m | \u001b[0m 0.004628\u001b[0m | \u001b[0m 33.75   \u001b[0m | \u001b[0m 9.711e+0\u001b[0m | \u001b[0m 164.3   \u001b[0m | \u001b[0m 103.5   \u001b[0m |\n",
      "| \u001b[95m 8       \u001b[0m | \u001b[95m 0.6424  \u001b[0m | \u001b[95m 0.0252  \u001b[0m | \u001b[95m 0.004836\u001b[0m | \u001b[95m 24.14   \u001b[0m | \u001b[95m 7.766e+0\u001b[0m | \u001b[95m 102.4   \u001b[0m | \u001b[95m 140.5   \u001b[0m |\n",
      "| \u001b[95m 9       \u001b[0m | \u001b[95m 0.6428  \u001b[0m | \u001b[95m 0.02575 \u001b[0m | \u001b[95m 0.03534 \u001b[0m | \u001b[95m 25.51   \u001b[0m | \u001b[95m 253.4   \u001b[0m | \u001b[95m 107.9   \u001b[0m | \u001b[95m 2.15e+03\u001b[0m |\n",
      "| \u001b[0m 10      \u001b[0m | \u001b[0m 0.6423  \u001b[0m | \u001b[0m 0.03853 \u001b[0m | \u001b[0m 0.03429 \u001b[0m | \u001b[0m 53.52   \u001b[0m | \u001b[0m 2.539e+0\u001b[0m | \u001b[0m 115.3   \u001b[0m | \u001b[0m 105.0   \u001b[0m |\n",
      "| \u001b[0m 11      \u001b[0m | \u001b[0m 0.6419  \u001b[0m | \u001b[0m 0.005657\u001b[0m | \u001b[0m 0.04969 \u001b[0m | \u001b[0m 34.51   \u001b[0m | \u001b[0m 1.434e+0\u001b[0m | \u001b[0m 101.1   \u001b[0m | \u001b[0m 40.52   \u001b[0m |\n",
      "| \u001b[0m 12      \u001b[0m | \u001b[0m 0.6418  \u001b[0m | \u001b[0m 0.03422 \u001b[0m | \u001b[0m 0.01324 \u001b[0m | \u001b[0m 22.84   \u001b[0m | \u001b[0m 5.41e+03\u001b[0m | \u001b[0m 104.9   \u001b[0m | \u001b[0m 49.81   \u001b[0m |\n",
      "=================================================================================================\n"
     ]
    }
   ],
   "source": [
    "lgbBO = BayesianOptimization(lgb_eval, {'num_leaves': (25, 4000),\n",
    "                                                'max_depth': (5, 63),\n",
    "                                                'lambda_l2': (0.0, 0.05),\n",
    "                                                'lambda_l1': (0.0, 0.05),\n",
    "                                                'min_child_samples': (50, 10000),\n",
    "                                                'min_data_in_leaf': (100, 2000)\n",
    "                                                })\n",
    "\n",
    "lgbBO.maximize(n_iter=10, init_points=2)"
   ]
  },
  {
   "cell_type": "markdown",
   "metadata": {},
   "source": [
    "### Other Algorithms"
   ]
  },
  {
   "cell_type": "markdown",
   "metadata": {},
   "source": [
    "After trying different algorithms, we can see that KNeighborsClassifier returned 0.45 for the highest score using the same accuracy metric. Based on the recall metric, the model has 41% of accurately detecting normal cases, 47% of accurately detecting Atrial Fibrillation, and 49% of accurately detecting other arrhythmia cases. Even though it has more percentage of detecting Atrial Fibrillation cases, the accuracy score is lower than using the Random Forest algorithm. However, we can assume that KNeighborsClassifier is the most suitable algorithm in this dataset."
   ]
  },
  {
   "cell_type": "code",
   "execution_count": 9,
   "metadata": {},
   "outputs": [
    {
     "name": "stdout",
     "output_type": "stream",
     "text": [
      "Fitting 5 folds for each of 1 candidates, totalling 5 fits\n"
     ]
    },
    {
     "name": "stderr",
     "output_type": "stream",
     "text": [
      "[Parallel(n_jobs=-1)]: Using backend LokyBackend with 8 concurrent workers.\n",
      "[Parallel(n_jobs=-1)]: Done   2 out of   5 | elapsed:    0.0s remaining:    0.0s\n"
     ]
    },
    {
     "name": "stdout",
     "output_type": "stream",
     "text": [
      "KNeighborsClassifier(algorithm='auto', leaf_size=30, metric='euclidean',\n",
      "                     metric_params=None, n_jobs=None, n_neighbors=150, p=2,\n",
      "                     weights='distance') {'metric': 'euclidean', 'n_neighbors': 150, 'weights': 'distance'} 0.4889326226595599\n"
     ]
    },
    {
     "name": "stderr",
     "output_type": "stream",
     "text": [
      "[Parallel(n_jobs=-1)]: Done   5 out of   5 | elapsed:    0.7s finished\n"
     ]
    }
   ],
   "source": [
    "# clfl2=LogisticRegression(max_iter=1000000)\n",
    "# parameters = {'C': [10000], 'solver': ['saga'],  'multi_class': ['auto']} # 0.4681891485581523\n",
    "\n",
    "# clfl2 = svm.SVC()\n",
    "# parameters = {'kernel':['linear'], 'C':[8]} #0.45558562252289186\n",
    "\n",
    "# clfl2 = LogisticRegressionCV(max_iter=100000)\n",
    "# parameters = {\"Cs\": [10], 'solver': ['saga'], 'fit_intercept':[True], 'penalty': ['l1']} # 0.4711466447997813\n",
    "\n",
    "# clfl2 = RidgeClassifier(max_iter=1000)\n",
    "# parameters = {'alpha': [0.9], 'solver': ['auto']} #0.4592865928659286\n",
    "\n",
    "clfl2 = KNeighborsClassifier()\n",
    "parameters = {'n_neighbors': [150], 'weights': ['distance'], 'metric': ['euclidean']} #0.4889326226595599\n",
    "\n",
    "fitmodel = GridSearchCV(clfl2, param_grid=parameters, cv=5, refit=True, scoring=\"accuracy\", n_jobs=-1, verbose=3)\n",
    "fitmodel.fit(X_train, y_train)\n",
    "print(fitmodel.best_estimator_, fitmodel.best_params_, fitmodel.best_score_)"
   ]
  },
  {
   "cell_type": "code",
   "execution_count": 10,
   "metadata": {},
   "outputs": [
    {
     "name": "stdout",
     "output_type": "stream",
     "text": [
      "              precision    recall  f1-score   support\n",
      "\n",
      "           0       0.47      0.41      0.44       162\n",
      "           1       0.49      0.47      0.48       117\n",
      "           2       0.42      0.49      0.45       172\n",
      "\n",
      "    accuracy                           0.45       451\n",
      "   macro avg       0.46      0.46      0.46       451\n",
      "weighted avg       0.46      0.45      0.45       451\n",
      "\n"
     ]
    }
   ],
   "source": [
    "y_pred = fitmodel.predict(X_test)\n",
    "print(classification_report(y_test, y_pred))"
   ]
  },
  {
   "cell_type": "markdown",
   "metadata": {},
   "source": [
    "## (2) 13 Features and 1 Label"
   ]
  },
  {
   "cell_type": "markdown",
   "metadata": {},
   "source": [
    "**13 Features:**\n",
    "* age\n",
    "* sex\n",
    "* height\n",
    "* weight\n",
    "* nurse\n",
    "* site\n",
    "* device\n",
    "* heart_axis\n",
    "* validated_by\n",
    "* second_opinion\n",
    "* validated_by_human\n",
    "* pacemaker\n",
    "* strat_fold\n",
    "\n",
    "**1 Label:** \n",
    "* ritmi\n",
    "\n",
    "This csv file consists of 6366 observations and 14 variables. Insread of dropping missing values for the columns, we filled the missing values with the mean values for the age, height, and weight columns. In addition, we also filled the missing values with 0 for the nurse, site, validated_by, heart_axis, and pacemaker columns."
   ]
  },
  {
   "cell_type": "code",
   "execution_count": 11,
   "metadata": {},
   "outputs": [
    {
     "data": {
      "text/html": [
       "<div>\n",
       "<style scoped>\n",
       "    .dataframe tbody tr th:only-of-type {\n",
       "        vertical-align: middle;\n",
       "    }\n",
       "\n",
       "    .dataframe tbody tr th {\n",
       "        vertical-align: top;\n",
       "    }\n",
       "\n",
       "    .dataframe thead th {\n",
       "        text-align: right;\n",
       "    }\n",
       "</style>\n",
       "<table border=\"1\" class=\"dataframe\">\n",
       "  <thead>\n",
       "    <tr style=\"text-align: right;\">\n",
       "      <th></th>\n",
       "      <th>ritmi</th>\n",
       "      <th>age</th>\n",
       "      <th>sex</th>\n",
       "      <th>height</th>\n",
       "      <th>weight</th>\n",
       "      <th>nurse</th>\n",
       "      <th>site</th>\n",
       "      <th>device</th>\n",
       "      <th>heart_axis</th>\n",
       "      <th>validated_by</th>\n",
       "      <th>second_opinion</th>\n",
       "      <th>validated_by_human</th>\n",
       "      <th>pacemaker</th>\n",
       "      <th>strat_fold</th>\n",
       "    </tr>\n",
       "  </thead>\n",
       "  <tbody>\n",
       "    <tr>\n",
       "      <th>0</th>\n",
       "      <td>2</td>\n",
       "      <td>54.0</td>\n",
       "      <td>0</td>\n",
       "      <td>166.796356</td>\n",
       "      <td>69.841845</td>\n",
       "      <td>0.0</td>\n",
       "      <td>0.0</td>\n",
       "      <td>0</td>\n",
       "      <td>3.0</td>\n",
       "      <td>0.0</td>\n",
       "      <td>0</td>\n",
       "      <td>0</td>\n",
       "      <td>0.0</td>\n",
       "      <td>6</td>\n",
       "    </tr>\n",
       "    <tr>\n",
       "      <th>1</th>\n",
       "      <td>1</td>\n",
       "      <td>54.0</td>\n",
       "      <td>0</td>\n",
       "      <td>166.796356</td>\n",
       "      <td>69.841845</td>\n",
       "      <td>0.0</td>\n",
       "      <td>0.0</td>\n",
       "      <td>0</td>\n",
       "      <td>3.0</td>\n",
       "      <td>0.0</td>\n",
       "      <td>0</td>\n",
       "      <td>0</td>\n",
       "      <td>0.0</td>\n",
       "      <td>6</td>\n",
       "    </tr>\n",
       "    <tr>\n",
       "      <th>2</th>\n",
       "      <td>0</td>\n",
       "      <td>55.0</td>\n",
       "      <td>0</td>\n",
       "      <td>166.796356</td>\n",
       "      <td>69.841845</td>\n",
       "      <td>1.0</td>\n",
       "      <td>2.0</td>\n",
       "      <td>1</td>\n",
       "      <td>1.0</td>\n",
       "      <td>1.0</td>\n",
       "      <td>0</td>\n",
       "      <td>1</td>\n",
       "      <td>0.0</td>\n",
       "      <td>10</td>\n",
       "    </tr>\n",
       "    <tr>\n",
       "      <th>3</th>\n",
       "      <td>2</td>\n",
       "      <td>29.0</td>\n",
       "      <td>1</td>\n",
       "      <td>164.000000</td>\n",
       "      <td>56.000000</td>\n",
       "      <td>7.0</td>\n",
       "      <td>1.0</td>\n",
       "      <td>10</td>\n",
       "      <td>0.0</td>\n",
       "      <td>0.0</td>\n",
       "      <td>0</td>\n",
       "      <td>1</td>\n",
       "      <td>0.0</td>\n",
       "      <td>1</td>\n",
       "    </tr>\n",
       "    <tr>\n",
       "      <th>4</th>\n",
       "      <td>2</td>\n",
       "      <td>57.0</td>\n",
       "      <td>0</td>\n",
       "      <td>166.796356</td>\n",
       "      <td>69.841845</td>\n",
       "      <td>0.0</td>\n",
       "      <td>0.0</td>\n",
       "      <td>0</td>\n",
       "      <td>3.0</td>\n",
       "      <td>0.0</td>\n",
       "      <td>0</td>\n",
       "      <td>0</td>\n",
       "      <td>0.0</td>\n",
       "      <td>1</td>\n",
       "    </tr>\n",
       "  </tbody>\n",
       "</table>\n",
       "</div>"
      ],
      "text/plain": [
       "   ritmi   age  sex      height     weight  nurse  site  device  heart_axis  \\\n",
       "0      2  54.0    0  166.796356  69.841845    0.0   0.0       0         3.0   \n",
       "1      1  54.0    0  166.796356  69.841845    0.0   0.0       0         3.0   \n",
       "2      0  55.0    0  166.796356  69.841845    1.0   2.0       1         1.0   \n",
       "3      2  29.0    1  164.000000  56.000000    7.0   1.0      10         0.0   \n",
       "4      2  57.0    0  166.796356  69.841845    0.0   0.0       0         3.0   \n",
       "\n",
       "   validated_by  second_opinion  validated_by_human  pacemaker  strat_fold  \n",
       "0           0.0               0                   0        0.0           6  \n",
       "1           0.0               0                   0        0.0           6  \n",
       "2           1.0               0                   1        0.0          10  \n",
       "3           0.0               0                   1        0.0           1  \n",
       "4           0.0               0                   0        0.0           1  "
      ]
     },
     "execution_count": 11,
     "metadata": {},
     "output_type": "execute_result"
    }
   ],
   "source": [
    "df = pd.read_csv('training_13_features.csv')\n",
    "new_df = df.dropna()\n",
    "# new_df = new_df[new_df['ritmi'] != 2]\n",
    "new_df = new_df.reset_index(drop=True)\n",
    "df.head()"
   ]
  },
  {
   "cell_type": "code",
   "execution_count": 12,
   "metadata": {},
   "outputs": [
    {
     "name": "stdout",
     "output_type": "stream",
     "text": [
      "<class 'pandas.core.frame.DataFrame'>\n",
      "RangeIndex: 6366 entries, 0 to 6365\n",
      "Data columns (total 14 columns):\n",
      " #   Column              Non-Null Count  Dtype  \n",
      "---  ------              --------------  -----  \n",
      " 0   ritmi               6366 non-null   float64\n",
      " 1   age                 6366 non-null   float64\n",
      " 2   sex                 6366 non-null   float64\n",
      " 3   height              6366 non-null   float64\n",
      " 4   weight              6366 non-null   float64\n",
      " 5   nurse               6366 non-null   float64\n",
      " 6   site                6366 non-null   float64\n",
      " 7   device              6366 non-null   float64\n",
      " 8   heart_axis          6366 non-null   float64\n",
      " 9   validated_by        6366 non-null   float64\n",
      " 10  second_opinion      6366 non-null   float64\n",
      " 11  validated_by_human  6366 non-null   float64\n",
      " 12  pacemaker           6366 non-null   float64\n",
      " 13  strat_fold          6366 non-null   float64\n",
      "dtypes: float64(14)\n",
      "memory usage: 696.4 KB\n"
     ]
    }
   ],
   "source": [
    "# convert all columns' types to float64\n",
    "for i in range(14):\n",
    "    new_df[new_df.columns[i]] = new_df[new_df.columns[i]].astype('float64')\n",
    "    \n",
    "# get info for columns\n",
    "new_df.info()"
   ]
  },
  {
   "cell_type": "code",
   "execution_count": 13,
   "metadata": {},
   "outputs": [],
   "source": [
    "# train-test split\n",
    "X = new_df.drop(columns='ritmi')\n",
    "y = new_df['ritmi']\n",
    "X_train, X_test, y_train, y_test=train_test_split(X, y, test_size = 0.2, random_state = 246)"
   ]
  },
  {
   "cell_type": "markdown",
   "metadata": {},
   "source": [
    "### Random Forest"
   ]
  },
  {
   "cell_type": "markdown",
   "metadata": {},
   "source": [
    "We used the RandomForest algorithm and tuned the model with GridSearchCV, we got 0.50 for the accuracy score. Afterwards, we used the model to predict X_test. Based on the recall metric, we can conclude that the model has 38% of accurately detecting normal cases, 49% of accurately detecting Atrial Fibrillation, and 60% of accurately detecting other arrhythmia cases."
   ]
  },
  {
   "cell_type": "code",
   "execution_count": 14,
   "metadata": {},
   "outputs": [
    {
     "name": "stdout",
     "output_type": "stream",
     "text": [
      "Best Score:0.5037340827771167\n",
      "Best Parameters: {'criterion': 'entropy', 'max_depth': 60, 'n_estimators': 600}\n"
     ]
    }
   ],
   "source": [
    "# Plug in appropriate max_depth and random_state parameters\n",
    "rf = RandomForestClassifier()\n",
    "rf_param_grid = {'n_estimators': [600], 'criterion': ['entropy'], 'max_depth': [60]} #0.502161524857536\n",
    "rf_cv= GridSearchCV(rf,rf_param_grid,cv=7,n_jobs=-1)\n",
    "rf_cv.fit(X_train,y_train)\n",
    "\n",
    "print(\"Best Score:\" + str(rf_cv.best_score_))\n",
    "print(\"Best Parameters: \" + str(rf_cv.best_params_))"
   ]
  },
  {
   "cell_type": "code",
   "execution_count": 15,
   "metadata": {},
   "outputs": [
    {
     "name": "stdout",
     "output_type": "stream",
     "text": [
      "              precision    recall  f1-score   support\n",
      "\n",
      "         0.0       0.43      0.38      0.40       407\n",
      "         1.0       0.51      0.48      0.49       318\n",
      "         2.0       0.54      0.60      0.57       549\n",
      "\n",
      "    accuracy                           0.50      1274\n",
      "   macro avg       0.49      0.49      0.49      1274\n",
      "weighted avg       0.50      0.50      0.50      1274\n",
      "\n"
     ]
    }
   ],
   "source": [
    "y_pred = rf_cv.predict(X_test)\n",
    "print(classification_report(y_test, y_pred))"
   ]
  },
  {
   "cell_type": "markdown",
   "metadata": {},
   "source": [
    "### LightGBM"
   ]
  },
  {
   "cell_type": "markdown",
   "metadata": {},
   "source": [
    "We also used the LightGBM algorithm, and tuned the model with BayesianOptimization, and we got 0.64 for the highest performance score using the auc metric."
   ]
  },
  {
   "cell_type": "code",
   "execution_count": 16,
   "metadata": {},
   "outputs": [
    {
     "name": "stdout",
     "output_type": "stream",
     "text": [
      "|   iter    |  target   | lambda_l1 | lambda_l2 | max_depth | min_ch... | min_da... | num_le... |\n",
      "-------------------------------------------------------------------------------------------------\n",
      "| \u001b[0m 1       \u001b[0m | \u001b[0m 0.6391  \u001b[0m | \u001b[0m 0.04647 \u001b[0m | \u001b[0m 0.02277 \u001b[0m | \u001b[0m 18.49   \u001b[0m | \u001b[0m 8.727e+0\u001b[0m | \u001b[0m 134.5   \u001b[0m | \u001b[0m 1.371e+0\u001b[0m |\n",
      "| \u001b[0m 2       \u001b[0m | \u001b[0m 0.6044  \u001b[0m | \u001b[0m 0.02907 \u001b[0m | \u001b[0m 0.006896\u001b[0m | \u001b[0m 52.64   \u001b[0m | \u001b[0m 8.533e+0\u001b[0m | \u001b[0m 1.595e+0\u001b[0m | \u001b[0m 3.268e+0\u001b[0m |\n",
      "| \u001b[0m 3       \u001b[0m | \u001b[0m 0.6383  \u001b[0m | \u001b[0m 0.003875\u001b[0m | \u001b[0m 0.03582 \u001b[0m | \u001b[0m 21.89   \u001b[0m | \u001b[0m 70.68   \u001b[0m | \u001b[0m 153.7   \u001b[0m | \u001b[0m 117.0   \u001b[0m |\n",
      "| \u001b[0m 4       \u001b[0m | \u001b[0m 0.6081  \u001b[0m | \u001b[0m 0.01025 \u001b[0m | \u001b[0m 0.01776 \u001b[0m | \u001b[0m 45.82   \u001b[0m | \u001b[0m 4.809e+0\u001b[0m | \u001b[0m 1.457e+0\u001b[0m | \u001b[0m 1.265e+0\u001b[0m |\n",
      "| \u001b[95m 5       \u001b[0m | \u001b[95m 0.6408  \u001b[0m | \u001b[95m 0.04423 \u001b[0m | \u001b[95m 0.02645 \u001b[0m | \u001b[95m 41.34   \u001b[0m | \u001b[95m 1.185e+0\u001b[0m | \u001b[95m 153.9   \u001b[0m | \u001b[95m 3.993e+0\u001b[0m |\n",
      "| \u001b[0m 6       \u001b[0m | \u001b[0m 0.6319  \u001b[0m | \u001b[0m 0.045   \u001b[0m | \u001b[0m 0.02148 \u001b[0m | \u001b[0m 35.5    \u001b[0m | \u001b[0m 3.555e+0\u001b[0m | \u001b[0m 487.9   \u001b[0m | \u001b[0m 3.331e+0\u001b[0m |\n",
      "| \u001b[0m 7       \u001b[0m | \u001b[0m 0.5     \u001b[0m | \u001b[0m 0.02452 \u001b[0m | \u001b[0m 0.02734 \u001b[0m | \u001b[0m 19.78   \u001b[0m | \u001b[0m 585.2   \u001b[0m | \u001b[0m 1.967e+0\u001b[0m | \u001b[0m 1.528e+0\u001b[0m |\n",
      "| \u001b[0m 8       \u001b[0m | \u001b[0m 0.5     \u001b[0m | \u001b[0m 0.03278 \u001b[0m | \u001b[0m 0.000656\u001b[0m | \u001b[0m 39.37   \u001b[0m | \u001b[0m 9.971e+0\u001b[0m | \u001b[0m 1.886e+0\u001b[0m | \u001b[0m 37.67   \u001b[0m |\n",
      "| \u001b[0m 9       \u001b[0m | \u001b[0m 0.6365  \u001b[0m | \u001b[0m 0.02465 \u001b[0m | \u001b[0m 0.004804\u001b[0m | \u001b[0m 36.71   \u001b[0m | \u001b[0m 9.703e+0\u001b[0m | \u001b[0m 254.8   \u001b[0m | \u001b[0m 3.98e+03\u001b[0m |\n",
      "| \u001b[95m 10      \u001b[0m | \u001b[95m 0.642   \u001b[0m | \u001b[95m 0.01797 \u001b[0m | \u001b[95m 0.02621 \u001b[0m | \u001b[95m 41.39   \u001b[0m | \u001b[95m 4.317e+0\u001b[0m | \u001b[95m 108.9   \u001b[0m | \u001b[95m 40.98   \u001b[0m |\n",
      "| \u001b[0m 11      \u001b[0m | \u001b[0m 0.6354  \u001b[0m | \u001b[0m 0.0395  \u001b[0m | \u001b[0m 0.02178 \u001b[0m | \u001b[0m 20.65   \u001b[0m | \u001b[0m 2.415e+0\u001b[0m | \u001b[0m 264.6   \u001b[0m | \u001b[0m 3.861e+0\u001b[0m |\n",
      "| \u001b[0m 12      \u001b[0m | \u001b[0m 0.6401  \u001b[0m | \u001b[0m 0.003655\u001b[0m | \u001b[0m 0.04305 \u001b[0m | \u001b[0m 35.25   \u001b[0m | \u001b[0m 7.257e+0\u001b[0m | \u001b[0m 114.0   \u001b[0m | \u001b[0m 3.895e+0\u001b[0m |\n",
      "=================================================================================================\n"
     ]
    }
   ],
   "source": [
    "lgbBO = BayesianOptimization(lgb_eval, {'num_leaves': (25, 4000),\n",
    "                                                'max_depth': (5, 63),\n",
    "                                                'lambda_l2': (0.0, 0.05),\n",
    "                                                'lambda_l1': (0.0, 0.05),\n",
    "                                                'min_child_samples': (50, 10000),\n",
    "                                                'min_data_in_leaf': (100, 2000)\n",
    "                                                })\n",
    "\n",
    "lgbBO.maximize(n_iter=10, init_points=2)"
   ]
  },
  {
   "cell_type": "markdown",
   "metadata": {},
   "source": [
    "### K-Neighbors"
   ]
  },
  {
   "cell_type": "markdown",
   "metadata": {},
   "source": [
    "Finally, we applied the KNeighborsClassifier algorithm. Based on the recall metric, the model has 23% of accurately detecting normal cases, 40% of accurately detecting Atrial Fibrillation, and 70% of accurately detecting other arrhythmia cases. Thus, we can conclude that RandomForest works best for this dataset as it returns 0.5 as the accuracy score and it has 49% of accurately detecting Atrial Fibrillation cases."
   ]
  },
  {
   "cell_type": "code",
   "execution_count": 17,
   "metadata": {},
   "outputs": [
    {
     "name": "stdout",
     "output_type": "stream",
     "text": [
      "Fitting 5 folds for each of 1 candidates, totalling 5 fits\n"
     ]
    },
    {
     "name": "stderr",
     "output_type": "stream",
     "text": [
      "[Parallel(n_jobs=-1)]: Using backend LokyBackend with 8 concurrent workers.\n",
      "[Parallel(n_jobs=-1)]: Done   2 out of   5 | elapsed:    0.1s remaining:    0.2s\n",
      "[Parallel(n_jobs=-1)]: Done   5 out of   5 | elapsed:    0.1s remaining:    0.0s\n",
      "[Parallel(n_jobs=-1)]: Done   5 out of   5 | elapsed:    0.1s finished\n"
     ]
    },
    {
     "name": "stdout",
     "output_type": "stream",
     "text": [
      "KNeighborsClassifier(algorithm='auto', leaf_size=30, metric='euclidean',\n",
      "                     metric_params=None, n_jobs=None, n_neighbors=140, p=2,\n",
      "                     weights='distance') {'metric': 'euclidean', 'n_neighbors': 140, 'weights': 'distance'} 0.48291479569900764\n"
     ]
    }
   ],
   "source": [
    "clfl2 = KNeighborsClassifier()\n",
    "parameters = {'n_neighbors': [140], 'weights': ['distance'], 'metric': ['euclidean']} #0.4830258302583026\n",
    "\n",
    "fitmodel = GridSearchCV(clfl2, param_grid=parameters, cv=5, refit=True, scoring=\"accuracy\", n_jobs=-1, verbose=2)\n",
    "fitmodel.fit(X_train, y_train)\n",
    "print(fitmodel.best_estimator_, fitmodel.best_params_, fitmodel.best_score_)"
   ]
  },
  {
   "cell_type": "code",
   "execution_count": 18,
   "metadata": {},
   "outputs": [
    {
     "name": "stdout",
     "output_type": "stream",
     "text": [
      "              precision    recall  f1-score   support\n",
      "\n",
      "         0.0       0.38      0.23      0.29       407\n",
      "         1.0       0.54      0.40      0.46       318\n",
      "         2.0       0.49      0.70      0.58       549\n",
      "\n",
      "    accuracy                           0.48      1274\n",
      "   macro avg       0.47      0.44      0.44      1274\n",
      "weighted avg       0.47      0.48      0.45      1274\n",
      "\n"
     ]
    }
   ],
   "source": [
    "y_pred = fitmodel.predict(X_test)\n",
    "print(classification_report(y_test, y_pred))"
   ]
  },
  {
   "cell_type": "markdown",
   "metadata": {},
   "source": [
    "## (3) 25 Features and 1 Label"
   ]
  },
  {
   "cell_type": "markdown",
   "metadata": {},
   "source": [
    "**25 Features:**\n",
    "* I\n",
    "* II\n",
    "* III\n",
    "* aVF\n",
    "* aVR\n",
    "* aVL\n",
    "* V1\n",
    "* V2\n",
    "* V3\n",
    "* V4\n",
    "* V5\n",
    "* V6\n",
    "* age\n",
    "* sex\n",
    "* height\n",
    "* weight\n",
    "* nurse\n",
    "* site\n",
    "* device\n",
    "* heart_axis\n",
    "* validated_by\n",
    "* second_opinion\n",
    "* validated_by_human\n",
    "* pacemaker\n",
    "* strat_fold\n",
    "\n",
    "**1 Label:**\n",
    "* ritmi\n",
    "\n",
    "This dataset consists of 4319176 observations and 26 variables. This dataset is different than the other two datasets since we combined 12 variables in the compressed numpy data file and 14 variables in the second dataset. Therefore, we have more information about the 12 ecg leads that may help us in detecting atrial fibrillation cases."
   ]
  },
  {
   "cell_type": "code",
   "execution_count": 19,
   "metadata": {},
   "outputs": [
    {
     "data": {
      "text/html": [
       "<div>\n",
       "<style scoped>\n",
       "    .dataframe tbody tr th:only-of-type {\n",
       "        vertical-align: middle;\n",
       "    }\n",
       "\n",
       "    .dataframe tbody tr th {\n",
       "        vertical-align: top;\n",
       "    }\n",
       "\n",
       "    .dataframe thead th {\n",
       "        text-align: right;\n",
       "    }\n",
       "</style>\n",
       "<table border=\"1\" class=\"dataframe\">\n",
       "  <thead>\n",
       "    <tr style=\"text-align: right;\">\n",
       "      <th></th>\n",
       "      <th>I</th>\n",
       "      <th>II</th>\n",
       "      <th>III</th>\n",
       "      <th>aVF</th>\n",
       "      <th>aVR</th>\n",
       "      <th>aVL</th>\n",
       "      <th>V1</th>\n",
       "      <th>V2</th>\n",
       "      <th>V3</th>\n",
       "      <th>V4</th>\n",
       "      <th>...</th>\n",
       "      <th>weight</th>\n",
       "      <th>nurse</th>\n",
       "      <th>site</th>\n",
       "      <th>device</th>\n",
       "      <th>heart_axis</th>\n",
       "      <th>validated_by</th>\n",
       "      <th>second_opinion</th>\n",
       "      <th>validated_by_human</th>\n",
       "      <th>pacemaker</th>\n",
       "      <th>strat_fold</th>\n",
       "    </tr>\n",
       "  </thead>\n",
       "  <tbody>\n",
       "    <tr>\n",
       "      <th>0</th>\n",
       "      <td>-0.005</td>\n",
       "      <td>0.135</td>\n",
       "      <td>0.140</td>\n",
       "      <td>-0.065</td>\n",
       "      <td>-0.073</td>\n",
       "      <td>0.137</td>\n",
       "      <td>-0.125</td>\n",
       "      <td>-0.090</td>\n",
       "      <td>-0.110</td>\n",
       "      <td>-0.210</td>\n",
       "      <td>...</td>\n",
       "      <td>69.841845</td>\n",
       "      <td>0.0</td>\n",
       "      <td>0.0</td>\n",
       "      <td>0</td>\n",
       "      <td>3.0</td>\n",
       "      <td>0.0</td>\n",
       "      <td>0</td>\n",
       "      <td>0</td>\n",
       "      <td>0.0</td>\n",
       "      <td>6</td>\n",
       "    </tr>\n",
       "    <tr>\n",
       "      <th>1</th>\n",
       "      <td>-0.005</td>\n",
       "      <td>0.135</td>\n",
       "      <td>0.140</td>\n",
       "      <td>-0.065</td>\n",
       "      <td>-0.073</td>\n",
       "      <td>0.137</td>\n",
       "      <td>-0.125</td>\n",
       "      <td>-0.090</td>\n",
       "      <td>-0.110</td>\n",
       "      <td>-0.211</td>\n",
       "      <td>...</td>\n",
       "      <td>69.841845</td>\n",
       "      <td>0.0</td>\n",
       "      <td>0.0</td>\n",
       "      <td>0</td>\n",
       "      <td>3.0</td>\n",
       "      <td>0.0</td>\n",
       "      <td>0</td>\n",
       "      <td>0</td>\n",
       "      <td>0.0</td>\n",
       "      <td>6</td>\n",
       "    </tr>\n",
       "    <tr>\n",
       "      <th>2</th>\n",
       "      <td>-0.005</td>\n",
       "      <td>0.131</td>\n",
       "      <td>0.136</td>\n",
       "      <td>-0.063</td>\n",
       "      <td>-0.070</td>\n",
       "      <td>0.133</td>\n",
       "      <td>-0.125</td>\n",
       "      <td>-0.082</td>\n",
       "      <td>-0.102</td>\n",
       "      <td>-0.190</td>\n",
       "      <td>...</td>\n",
       "      <td>69.841845</td>\n",
       "      <td>0.0</td>\n",
       "      <td>0.0</td>\n",
       "      <td>0</td>\n",
       "      <td>3.0</td>\n",
       "      <td>0.0</td>\n",
       "      <td>0</td>\n",
       "      <td>0</td>\n",
       "      <td>0.0</td>\n",
       "      <td>6</td>\n",
       "    </tr>\n",
       "    <tr>\n",
       "      <th>3</th>\n",
       "      <td>-0.005</td>\n",
       "      <td>0.130</td>\n",
       "      <td>0.135</td>\n",
       "      <td>-0.063</td>\n",
       "      <td>-0.070</td>\n",
       "      <td>0.132</td>\n",
       "      <td>-0.122</td>\n",
       "      <td>-0.077</td>\n",
       "      <td>-0.094</td>\n",
       "      <td>-0.172</td>\n",
       "      <td>...</td>\n",
       "      <td>69.841845</td>\n",
       "      <td>0.0</td>\n",
       "      <td>0.0</td>\n",
       "      <td>0</td>\n",
       "      <td>3.0</td>\n",
       "      <td>0.0</td>\n",
       "      <td>0</td>\n",
       "      <td>0</td>\n",
       "      <td>0.0</td>\n",
       "      <td>6</td>\n",
       "    </tr>\n",
       "    <tr>\n",
       "      <th>4</th>\n",
       "      <td>-0.005</td>\n",
       "      <td>0.128</td>\n",
       "      <td>0.133</td>\n",
       "      <td>-0.062</td>\n",
       "      <td>-0.069</td>\n",
       "      <td>0.130</td>\n",
       "      <td>-0.119</td>\n",
       "      <td>-0.071</td>\n",
       "      <td>-0.084</td>\n",
       "      <td>-0.157</td>\n",
       "      <td>...</td>\n",
       "      <td>69.841845</td>\n",
       "      <td>0.0</td>\n",
       "      <td>0.0</td>\n",
       "      <td>0</td>\n",
       "      <td>3.0</td>\n",
       "      <td>0.0</td>\n",
       "      <td>0</td>\n",
       "      <td>0</td>\n",
       "      <td>0.0</td>\n",
       "      <td>6</td>\n",
       "    </tr>\n",
       "    <tr>\n",
       "      <th>...</th>\n",
       "      <td>...</td>\n",
       "      <td>...</td>\n",
       "      <td>...</td>\n",
       "      <td>...</td>\n",
       "      <td>...</td>\n",
       "      <td>...</td>\n",
       "      <td>...</td>\n",
       "      <td>...</td>\n",
       "      <td>...</td>\n",
       "      <td>...</td>\n",
       "      <td>...</td>\n",
       "      <td>...</td>\n",
       "      <td>...</td>\n",
       "      <td>...</td>\n",
       "      <td>...</td>\n",
       "      <td>...</td>\n",
       "      <td>...</td>\n",
       "      <td>...</td>\n",
       "      <td>...</td>\n",
       "      <td>...</td>\n",
       "      <td>...</td>\n",
       "    </tr>\n",
       "    <tr>\n",
       "      <th>4319171</th>\n",
       "      <td>0.010</td>\n",
       "      <td>0.170</td>\n",
       "      <td>0.160</td>\n",
       "      <td>-0.090</td>\n",
       "      <td>-0.075</td>\n",
       "      <td>0.165</td>\n",
       "      <td>0.155</td>\n",
       "      <td>0.365</td>\n",
       "      <td>0.230</td>\n",
       "      <td>0.030</td>\n",
       "      <td>...</td>\n",
       "      <td>69.841845</td>\n",
       "      <td>1.0</td>\n",
       "      <td>2.0</td>\n",
       "      <td>1</td>\n",
       "      <td>3.0</td>\n",
       "      <td>1.0</td>\n",
       "      <td>0</td>\n",
       "      <td>1</td>\n",
       "      <td>0.0</td>\n",
       "      <td>8</td>\n",
       "    </tr>\n",
       "    <tr>\n",
       "      <th>4319172</th>\n",
       "      <td>0.014</td>\n",
       "      <td>0.174</td>\n",
       "      <td>0.160</td>\n",
       "      <td>-0.094</td>\n",
       "      <td>-0.073</td>\n",
       "      <td>0.167</td>\n",
       "      <td>0.155</td>\n",
       "      <td>0.368</td>\n",
       "      <td>0.245</td>\n",
       "      <td>0.029</td>\n",
       "      <td>...</td>\n",
       "      <td>69.841845</td>\n",
       "      <td>1.0</td>\n",
       "      <td>2.0</td>\n",
       "      <td>1</td>\n",
       "      <td>3.0</td>\n",
       "      <td>1.0</td>\n",
       "      <td>0</td>\n",
       "      <td>1</td>\n",
       "      <td>0.0</td>\n",
       "      <td>8</td>\n",
       "    </tr>\n",
       "    <tr>\n",
       "      <th>4319173</th>\n",
       "      <td>0.016</td>\n",
       "      <td>0.176</td>\n",
       "      <td>0.160</td>\n",
       "      <td>-0.096</td>\n",
       "      <td>-0.073</td>\n",
       "      <td>0.167</td>\n",
       "      <td>0.155</td>\n",
       "      <td>0.383</td>\n",
       "      <td>0.261</td>\n",
       "      <td>0.040</td>\n",
       "      <td>...</td>\n",
       "      <td>69.841845</td>\n",
       "      <td>1.0</td>\n",
       "      <td>2.0</td>\n",
       "      <td>1</td>\n",
       "      <td>3.0</td>\n",
       "      <td>1.0</td>\n",
       "      <td>0</td>\n",
       "      <td>1</td>\n",
       "      <td>0.0</td>\n",
       "      <td>8</td>\n",
       "    </tr>\n",
       "    <tr>\n",
       "      <th>4319174</th>\n",
       "      <td>0.014</td>\n",
       "      <td>0.174</td>\n",
       "      <td>0.160</td>\n",
       "      <td>-0.094</td>\n",
       "      <td>-0.073</td>\n",
       "      <td>0.167</td>\n",
       "      <td>0.155</td>\n",
       "      <td>0.406</td>\n",
       "      <td>0.282</td>\n",
       "      <td>0.059</td>\n",
       "      <td>...</td>\n",
       "      <td>69.841845</td>\n",
       "      <td>1.0</td>\n",
       "      <td>2.0</td>\n",
       "      <td>1</td>\n",
       "      <td>3.0</td>\n",
       "      <td>1.0</td>\n",
       "      <td>0</td>\n",
       "      <td>1</td>\n",
       "      <td>0.0</td>\n",
       "      <td>8</td>\n",
       "    </tr>\n",
       "    <tr>\n",
       "      <th>4319175</th>\n",
       "      <td>0.016</td>\n",
       "      <td>0.176</td>\n",
       "      <td>0.160</td>\n",
       "      <td>-0.096</td>\n",
       "      <td>-0.072</td>\n",
       "      <td>0.168</td>\n",
       "      <td>0.156</td>\n",
       "      <td>0.424</td>\n",
       "      <td>0.304</td>\n",
       "      <td>0.072</td>\n",
       "      <td>...</td>\n",
       "      <td>69.841845</td>\n",
       "      <td>1.0</td>\n",
       "      <td>2.0</td>\n",
       "      <td>1</td>\n",
       "      <td>3.0</td>\n",
       "      <td>1.0</td>\n",
       "      <td>0</td>\n",
       "      <td>1</td>\n",
       "      <td>0.0</td>\n",
       "      <td>8</td>\n",
       "    </tr>\n",
       "  </tbody>\n",
       "</table>\n",
       "<p>4319176 rows × 26 columns</p>\n",
       "</div>"
      ],
      "text/plain": [
       "             I     II    III    aVF    aVR    aVL     V1     V2     V3     V4  \\\n",
       "0       -0.005  0.135  0.140 -0.065 -0.073  0.137 -0.125 -0.090 -0.110 -0.210   \n",
       "1       -0.005  0.135  0.140 -0.065 -0.073  0.137 -0.125 -0.090 -0.110 -0.211   \n",
       "2       -0.005  0.131  0.136 -0.063 -0.070  0.133 -0.125 -0.082 -0.102 -0.190   \n",
       "3       -0.005  0.130  0.135 -0.063 -0.070  0.132 -0.122 -0.077 -0.094 -0.172   \n",
       "4       -0.005  0.128  0.133 -0.062 -0.069  0.130 -0.119 -0.071 -0.084 -0.157   \n",
       "...        ...    ...    ...    ...    ...    ...    ...    ...    ...    ...   \n",
       "4319171  0.010  0.170  0.160 -0.090 -0.075  0.165  0.155  0.365  0.230  0.030   \n",
       "4319172  0.014  0.174  0.160 -0.094 -0.073  0.167  0.155  0.368  0.245  0.029   \n",
       "4319173  0.016  0.176  0.160 -0.096 -0.073  0.167  0.155  0.383  0.261  0.040   \n",
       "4319174  0.014  0.174  0.160 -0.094 -0.073  0.167  0.155  0.406  0.282  0.059   \n",
       "4319175  0.016  0.176  0.160 -0.096 -0.072  0.168  0.156  0.424  0.304  0.072   \n",
       "\n",
       "         ...     weight  nurse  site  device  heart_axis  validated_by  \\\n",
       "0        ...  69.841845    0.0   0.0       0         3.0           0.0   \n",
       "1        ...  69.841845    0.0   0.0       0         3.0           0.0   \n",
       "2        ...  69.841845    0.0   0.0       0         3.0           0.0   \n",
       "3        ...  69.841845    0.0   0.0       0         3.0           0.0   \n",
       "4        ...  69.841845    0.0   0.0       0         3.0           0.0   \n",
       "...      ...        ...    ...   ...     ...         ...           ...   \n",
       "4319171  ...  69.841845    1.0   2.0       1         3.0           1.0   \n",
       "4319172  ...  69.841845    1.0   2.0       1         3.0           1.0   \n",
       "4319173  ...  69.841845    1.0   2.0       1         3.0           1.0   \n",
       "4319174  ...  69.841845    1.0   2.0       1         3.0           1.0   \n",
       "4319175  ...  69.841845    1.0   2.0       1         3.0           1.0   \n",
       "\n",
       "         second_opinion  validated_by_human  pacemaker  strat_fold  \n",
       "0                     0                   0        0.0           6  \n",
       "1                     0                   0        0.0           6  \n",
       "2                     0                   0        0.0           6  \n",
       "3                     0                   0        0.0           6  \n",
       "4                     0                   0        0.0           6  \n",
       "...                 ...                 ...        ...         ...  \n",
       "4319171               0                   1        0.0           8  \n",
       "4319172               0                   1        0.0           8  \n",
       "4319173               0                   1        0.0           8  \n",
       "4319174               0                   1        0.0           8  \n",
       "4319175               0                   1        0.0           8  \n",
       "\n",
       "[4319176 rows x 26 columns]"
      ]
     },
     "execution_count": 19,
     "metadata": {},
     "output_type": "execute_result"
    }
   ],
   "source": [
    "# read in csv\n",
    "df = pd.read_csv('training_25_features.csv')\n",
    "df"
   ]
  },
  {
   "cell_type": "code",
   "execution_count": 20,
   "metadata": {},
   "outputs": [
    {
     "name": "stdout",
     "output_type": "stream",
     "text": [
      "<class 'pandas.core.frame.DataFrame'>\n",
      "RangeIndex: 4319176 entries, 0 to 4319175\n",
      "Data columns (total 26 columns):\n",
      " #   Column              Dtype  \n",
      "---  ------              -----  \n",
      " 0   I                   float64\n",
      " 1   II                  float64\n",
      " 2   III                 float64\n",
      " 3   aVF                 float64\n",
      " 4   aVR                 float64\n",
      " 5   aVL                 float64\n",
      " 6   V1                  float64\n",
      " 7   V2                  float64\n",
      " 8   V3                  float64\n",
      " 9   V4                  float64\n",
      " 10  V5                  float64\n",
      " 11  V6                  float64\n",
      " 12  ritmi               float64\n",
      " 13  age                 float64\n",
      " 14  sex                 float64\n",
      " 15  height              float64\n",
      " 16  weight              float64\n",
      " 17  nurse               float64\n",
      " 18  site                float64\n",
      " 19  device              float64\n",
      " 20  heart_axis          float64\n",
      " 21  validated_by        float64\n",
      " 22  second_opinion      float64\n",
      " 23  validated_by_human  float64\n",
      " 24  pacemaker           float64\n",
      " 25  strat_fold          float64\n",
      "dtypes: float64(26)\n",
      "memory usage: 856.8 MB\n"
     ]
    }
   ],
   "source": [
    "# convert all the columns to float64\n",
    "for i in range(26):\n",
    "    df[df.columns[i]] = df[df.columns[i]].astype('float64')\n",
    "    \n",
    "# get info for columns\n",
    "df.info()"
   ]
  },
  {
   "cell_type": "code",
   "execution_count": 21,
   "metadata": {},
   "outputs": [],
   "source": [
    "# train-test split\n",
    "X = df.drop(columns='ritmi')\n",
    "y = df['ritmi']\n",
    "X_train, X_test, y_train, y_test=train_test_split(X, y, test_size = 0.25, random_state = 1234)"
   ]
  },
  {
   "cell_type": "markdown",
   "metadata": {},
   "source": [
    "### Random Forest"
   ]
  },
  {
   "cell_type": "markdown",
   "metadata": {},
   "source": [
    "After training and tuning the model for the second dataset, we learned that the Random Forest algorithm is the best for detecting Atrial Fibrillation cases. Since this dataset is based off the second dataset (please see [here](https://github.com/tvo10/DSCT/blob/main/First%20Capstone/afib_detection_feature_engineering.ipynb) for further details), we only applied the Random Forest algorithm to get the accuracy score. Surprisingly, we got **0.99** for the accuracy score. We can conclude that the third dataset is the best dataset among the three datasets. Based on the recall metric, the model has 99% of accurately detecting normal cases, 98% of accurately detecting Atrial Fibrillation cases, and 99% of accurately detecting other arrhythmia cases."
   ]
  },
  {
   "cell_type": "code",
   "execution_count": 22,
   "metadata": {},
   "outputs": [
    {
     "name": "stdout",
     "output_type": "stream",
     "text": [
      "Best Score:0.986763833361317\n",
      "Best Parameters: {'criterion': 'entropy', 'max_depth': 45, 'n_estimators': 45}\n"
     ]
    }
   ],
   "source": [
    "# Plug in appropriate max_depth and random_state parameters\n",
    "rf = RandomForestClassifier()\n",
    "# rf_param_grid = {'n_estimators': [20], 'criterion': ['entropy'], 'max_depth': [20]} #0.9267653536506913\n",
    "rf_param_grid = {'n_estimators': [45], 'criterion': ['entropy'], 'max_depth': [45]} #0.9868391563552115\n",
    "rf_cv= GridSearchCV(rf,rf_param_grid,cv=7,n_jobs=-1)\n",
    "rf_cv.fit(X_train,y_train)\n",
    "\n",
    "print(\"Best Score:\" + str(rf_cv.best_score_))\n",
    "print(\"Best Parameters: \" + str(rf_cv.best_params_))"
   ]
  },
  {
   "cell_type": "code",
   "execution_count": 23,
   "metadata": {},
   "outputs": [
    {
     "name": "stdout",
     "output_type": "stream",
     "text": [
      "              precision    recall  f1-score   support\n",
      "\n",
      "         0.0       1.00      0.99      0.99    335792\n",
      "         1.0       0.98      0.98      0.98    267846\n",
      "         2.0       0.99      0.99      0.99    476156\n",
      "\n",
      "    accuracy                           0.99   1079794\n",
      "   macro avg       0.99      0.99      0.99   1079794\n",
      "weighted avg       0.99      0.99      0.99   1079794\n",
      "\n"
     ]
    }
   ],
   "source": [
    "y_pred = rf_cv.predict(X_test)\n",
    "print(classification_report(y_test, y_pred))"
   ]
  },
  {
   "cell_type": "markdown",
   "metadata": {},
   "source": [
    "## Conclusion"
   ]
  },
  {
   "cell_type": "markdown",
   "metadata": {},
   "source": [
    "The third dataset, which consists of 25 features and 1 label, is the most suitable dataset to be used in training the model. Please see the below table for a summary of the prediction score among three datasets with different algorithms."
   ]
  },
  {
   "cell_type": "markdown",
   "metadata": {},
   "source": [
    "<table border=\"1\">\n",
    "<colgroup>\n",
    "<col width=\"15%\" />\n",
    "<col width=\"16%\" />\n",
    "<col width=\"20%\" />\n",
    "<col width=\"27%\" />\n",
    "</colgroup>\n",
    "<thead valign=\"bottom\">\n",
    "<tr><th>Datasets</th>\n",
    "<th>(1) 11 features and 1 label</th>\n",
    "<th>(2) 13 features and 1 label</th>\n",
    "<th>(3) 25 features and 1 label</th>\n",
    "</tr>\n",
    "</thead>\n",
    "<tbody valign=\"top\">\n",
    "<tr><td>Random Forest</span></a></td>\n",
    "<td>0.45 (Accuracy)</td>\n",
    "<td>0.48 (Accuracy)</td>\n",
    "<td>0.99 (Accuracy)</td>\n",
    "</tr>\n",
    "<tr><td>K-Neighbors</td>\n",
    "<td>0.45 (Accuracy)</td>\n",
    "<td>0.50 (Accuracy)</td>\n",
    "<td>N/A</td>\n",
    "</tr>\n",
    "<tr><td>LightGBM</td>\n",
    "<td>0.64 (AUC)</td>\n",
    "<td>0.64 (AUC)</td>\n",
    "<td>N/A</td>\n",
    "</tr>\n",
    "</tbody>\n",
    "</table>"
   ]
  }
 ],
 "metadata": {
  "kernelspec": {
   "display_name": "Python 3",
   "language": "python",
   "name": "python3"
  },
  "language_info": {
   "codemirror_mode": {
    "name": "ipython",
    "version": 3
   },
   "file_extension": ".py",
   "mimetype": "text/x-python",
   "name": "python",
   "nbconvert_exporter": "python",
   "pygments_lexer": "ipython3",
   "version": "3.7.3"
  }
 },
 "nbformat": 4,
 "nbformat_minor": 2
}
