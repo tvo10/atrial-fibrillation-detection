{
 "cells": [
  {
   "cell_type": "markdown",
   "metadata": {},
   "source": [
    "## Introduction"
   ]
  },
  {
   "cell_type": "markdown",
   "metadata": {},
   "source": [
    "Atrial fibrillation is an irregular and often rapid heart rate that can increase your risk of strokes, heart failure and other heart-related complications.\n",
    "\n",
    "During atrial fibrillation, the heart's two upper chambers (the atria) beat chaotically and irregularly — out of coordination with the two lower chambers (the ventricles) of the heart. Atrial fibrillation symptoms often include heart palpitations, shortness of breath and weakness.\n",
    "\n",
    "Episodes of atrial fibrillation may come and go, or one may develop atrial fibrillation that doesn't go away and may require treatment. Although atrial fibrillation itself usually isn't life-threatening, it is a serious medical condition that sometimes requires emergency treatment.\n",
    "\n",
    "A major concern with atrial fibrillation is the potential to develop blood clots within the upper chambers of the heart. These blood clots forming in the heart may circulate to other organs and lead to blocked blood flow (ischemia).\n",
    "\n",
    "Treatments for atrial fibrillation may include medications and other interventions to try to alter the heart's electrical system.\n",
    "\n",
    "In this project, we will build a machine learning model to detect atrial fibrillation on the patients; thus, they can get treatment as soon as possible."
   ]
  },
  {
   "cell_type": "markdown",
   "metadata": {},
   "source": [
    "## Data Source"
   ]
  },
  {
   "cell_type": "markdown",
   "metadata": {},
   "source": [
    "[coorteeqsrafva.csv](https://www.kaggle.com/arjunascagnetto/ptbxl-atrial-fibrillation-detection): This is a subset of the PTB-XL, a large publicly available electrocardiography dataset, found on Kaggle. This dataset includes 3 ecg rhythms in the ritmi column: Normal (SR), Atrial Fibrillation (AF), all other arrhythmia (VA).\n",
    "\n",
    "[ecgeq-500hzsrfava.npy](https://www.kaggle.com/arjunascagnetto/ptbxl-atrial-fibrillation-detection): This Numpy file are the 12-leads ecg of the patients in 'coorteeqsrfava' file. These are the recording (6528) of the ecg that have one and only one of these condition:\n",
    "\n",
    "* Sinusal Rhythm (SR). The condition of a normal ecg.\n",
    "* Atrial Fibrillation (AF). The condition of having the specific arrhythmia of Atrial Fibrillation\n",
    "* Various Arrhythmia (VA). The condition of having one of the possible other types of arrhythmia.\n",
    "\n",
    "*Note: Since I do not have knowledge about ECG leads, I conducted some research to help me understand ECG leads better. According to [ECG & ECHO Learning](https://ecgwaves.com/topic/ekg-ecg-leads-electrodes-systems-limb-chest-precordial/), an ECG lead is a graphical description of the electrical activity of the heart and it is created by analysing several electrodes. In other words, each ECG lead is computed by analysing the electrical currents detected by several electrodes. The standard ECG – which is referred to as a 12-lead ECG since it includes 12 leads – is obtained using 10 electrodes. These 12 leads consists of two sets of ECG leads: limb leads and chest leads.*"
   ]
  },
  {
   "cell_type": "markdown",
   "metadata": {},
   "source": [
    "## Data Wrangling"
   ]
  },
  {
   "cell_type": "code",
   "execution_count": 1,
   "metadata": {},
   "outputs": [],
   "source": [
    "# import essential libraries\n",
    "import numpy as np\n",
    "import pandas as pd"
   ]
  },
  {
   "cell_type": "markdown",
   "metadata": {},
   "source": [
    "### Codebook"
   ]
  },
  {
   "cell_type": "markdown",
   "metadata": {},
   "source": [
    "<img src=\"../../data/afib_data/codebook.png\">"
   ]
  },
  {
   "cell_type": "code",
   "execution_count": 2,
   "metadata": {},
   "outputs": [
    {
     "data": {
      "text/html": [
       "<div>\n",
       "<style scoped>\n",
       "    .dataframe tbody tr th:only-of-type {\n",
       "        vertical-align: middle;\n",
       "    }\n",
       "\n",
       "    .dataframe tbody tr th {\n",
       "        vertical-align: top;\n",
       "    }\n",
       "\n",
       "    .dataframe thead th {\n",
       "        text-align: right;\n",
       "    }\n",
       "</style>\n",
       "<table border=\"1\" class=\"dataframe\">\n",
       "  <thead>\n",
       "    <tr style=\"text-align: right;\">\n",
       "      <th></th>\n",
       "      <th>diagnosi</th>\n",
       "      <th>ecg_id</th>\n",
       "      <th>ritmi</th>\n",
       "      <th>patient_id</th>\n",
       "      <th>age</th>\n",
       "      <th>sex</th>\n",
       "      <th>height</th>\n",
       "      <th>weight</th>\n",
       "      <th>nurse</th>\n",
       "      <th>site</th>\n",
       "      <th>device</th>\n",
       "      <th>recording_date</th>\n",
       "      <th>report</th>\n",
       "      <th>scp_codes</th>\n",
       "      <th>heart_axis</th>\n",
       "      <th>infarction_stadium1</th>\n",
       "      <th>infarction_stadium2</th>\n",
       "      <th>validated_by</th>\n",
       "      <th>second_opinion</th>\n",
       "      <th>initial_autogenerated_report</th>\n",
       "      <th>validated_by_human</th>\n",
       "      <th>baseline_drift</th>\n",
       "      <th>static_noise</th>\n",
       "      <th>burst_noise</th>\n",
       "      <th>electrodes_problems</th>\n",
       "      <th>extra_beats</th>\n",
       "      <th>pacemaker</th>\n",
       "      <th>strat_fold</th>\n",
       "      <th>filename_lr</th>\n",
       "      <th>filename_hr</th>\n",
       "    </tr>\n",
       "  </thead>\n",
       "  <tbody>\n",
       "    <tr>\n",
       "      <th>0</th>\n",
       "      <td>STACH</td>\n",
       "      <td>10900</td>\n",
       "      <td>VA</td>\n",
       "      <td>15654.0</td>\n",
       "      <td>54.0</td>\n",
       "      <td>0</td>\n",
       "      <td>NaN</td>\n",
       "      <td>NaN</td>\n",
       "      <td>0.0</td>\n",
       "      <td>0.0</td>\n",
       "      <td>CS100    3</td>\n",
       "      <td>1993-09-01 11:31:17</td>\n",
       "      <td>sinustachykardie wpw, typ a lagetyp normal 4.4...</td>\n",
       "      <td>{'AFLT': 100.0, 'STACH': 0.0}</td>\n",
       "      <td>MID</td>\n",
       "      <td>NaN</td>\n",
       "      <td>NaN</td>\n",
       "      <td>NaN</td>\n",
       "      <td>False</td>\n",
       "      <td>True</td>\n",
       "      <td>False</td>\n",
       "      <td>NaN</td>\n",
       "      <td>NaN</td>\n",
       "      <td>NaN</td>\n",
       "      <td>NaN</td>\n",
       "      <td>NaN</td>\n",
       "      <td>NaN</td>\n",
       "      <td>6</td>\n",
       "      <td>records100/10000/10900_lr</td>\n",
       "      <td>records500/10000/10900_hr</td>\n",
       "    </tr>\n",
       "    <tr>\n",
       "      <th>1</th>\n",
       "      <td>AFLT</td>\n",
       "      <td>10900</td>\n",
       "      <td>AF</td>\n",
       "      <td>15654.0</td>\n",
       "      <td>54.0</td>\n",
       "      <td>0</td>\n",
       "      <td>NaN</td>\n",
       "      <td>NaN</td>\n",
       "      <td>0.0</td>\n",
       "      <td>0.0</td>\n",
       "      <td>CS100    3</td>\n",
       "      <td>1993-09-01 11:31:17</td>\n",
       "      <td>sinustachykardie wpw, typ a lagetyp normal 4.4...</td>\n",
       "      <td>{'AFLT': 100.0, 'STACH': 0.0}</td>\n",
       "      <td>MID</td>\n",
       "      <td>NaN</td>\n",
       "      <td>NaN</td>\n",
       "      <td>NaN</td>\n",
       "      <td>False</td>\n",
       "      <td>True</td>\n",
       "      <td>False</td>\n",
       "      <td>NaN</td>\n",
       "      <td>NaN</td>\n",
       "      <td>NaN</td>\n",
       "      <td>NaN</td>\n",
       "      <td>NaN</td>\n",
       "      <td>NaN</td>\n",
       "      <td>6</td>\n",
       "      <td>records100/10000/10900_lr</td>\n",
       "      <td>records500/10000/10900_hr</td>\n",
       "    </tr>\n",
       "    <tr>\n",
       "      <th>2</th>\n",
       "      <td>SR</td>\n",
       "      <td>8209</td>\n",
       "      <td>SR</td>\n",
       "      <td>12281.0</td>\n",
       "      <td>55.0</td>\n",
       "      <td>0</td>\n",
       "      <td>NaN</td>\n",
       "      <td>NaN</td>\n",
       "      <td>1.0</td>\n",
       "      <td>2.0</td>\n",
       "      <td>CS-12</td>\n",
       "      <td>1992-06-09 15:52:36</td>\n",
       "      <td>sinusrhythmus linkslagetyp intraventr. leitung...</td>\n",
       "      <td>{'LVH': 100.0, 'ISC_': 100.0, 'SR': 0.0}</td>\n",
       "      <td>LAD</td>\n",
       "      <td>NaN</td>\n",
       "      <td>NaN</td>\n",
       "      <td>1.0</td>\n",
       "      <td>False</td>\n",
       "      <td>False</td>\n",
       "      <td>True</td>\n",
       "      <td>NaN</td>\n",
       "      <td>NaN</td>\n",
       "      <td>NaN</td>\n",
       "      <td>NaN</td>\n",
       "      <td>NaN</td>\n",
       "      <td>NaN</td>\n",
       "      <td>10</td>\n",
       "      <td>records100/08000/08209_lr</td>\n",
       "      <td>records500/08000/08209_hr</td>\n",
       "    </tr>\n",
       "    <tr>\n",
       "      <th>3</th>\n",
       "      <td>STACH</td>\n",
       "      <td>17620</td>\n",
       "      <td>VA</td>\n",
       "      <td>2007.0</td>\n",
       "      <td>29.0</td>\n",
       "      <td>1</td>\n",
       "      <td>164.0</td>\n",
       "      <td>56.0</td>\n",
       "      <td>7.0</td>\n",
       "      <td>1.0</td>\n",
       "      <td>AT-6 C 5.6</td>\n",
       "      <td>1997-02-08 18:33:30</td>\n",
       "      <td>sinus tachycardia. otherwise normal ecg.</td>\n",
       "      <td>{'NORM': 80.0, 'STACH': 0.0}</td>\n",
       "      <td>NaN</td>\n",
       "      <td>NaN</td>\n",
       "      <td>NaN</td>\n",
       "      <td>0.0</td>\n",
       "      <td>False</td>\n",
       "      <td>False</td>\n",
       "      <td>True</td>\n",
       "      <td>NaN</td>\n",
       "      <td>NaN</td>\n",
       "      <td>NaN</td>\n",
       "      <td>NaN</td>\n",
       "      <td>NaN</td>\n",
       "      <td>NaN</td>\n",
       "      <td>1</td>\n",
       "      <td>records100/17000/17620_lr</td>\n",
       "      <td>records500/17000/17620_hr</td>\n",
       "    </tr>\n",
       "    <tr>\n",
       "      <th>4</th>\n",
       "      <td>SBRAD</td>\n",
       "      <td>12967</td>\n",
       "      <td>VA</td>\n",
       "      <td>8685.0</td>\n",
       "      <td>57.0</td>\n",
       "      <td>0</td>\n",
       "      <td>NaN</td>\n",
       "      <td>NaN</td>\n",
       "      <td>0.0</td>\n",
       "      <td>0.0</td>\n",
       "      <td>CS100    3</td>\n",
       "      <td>1994-09-13 10:21:14</td>\n",
       "      <td>sinusbradykardie lagetyp normal sonst normales...</td>\n",
       "      <td>{'NORM': 80.0, 'SBRAD': 0.0}</td>\n",
       "      <td>MID</td>\n",
       "      <td>NaN</td>\n",
       "      <td>NaN</td>\n",
       "      <td>NaN</td>\n",
       "      <td>False</td>\n",
       "      <td>True</td>\n",
       "      <td>False</td>\n",
       "      <td>NaN</td>\n",
       "      <td>, I-AVR,</td>\n",
       "      <td>NaN</td>\n",
       "      <td>NaN</td>\n",
       "      <td>NaN</td>\n",
       "      <td>NaN</td>\n",
       "      <td>1</td>\n",
       "      <td>records100/12000/12967_lr</td>\n",
       "      <td>records500/12000/12967_hr</td>\n",
       "    </tr>\n",
       "  </tbody>\n",
       "</table>\n",
       "</div>"
      ],
      "text/plain": [
       "  diagnosi  ecg_id ritmi  patient_id   age  sex  height  weight  nurse  site  \\\n",
       "0    STACH   10900    VA     15654.0  54.0    0     NaN     NaN    0.0   0.0   \n",
       "1     AFLT   10900    AF     15654.0  54.0    0     NaN     NaN    0.0   0.0   \n",
       "2       SR    8209    SR     12281.0  55.0    0     NaN     NaN    1.0   2.0   \n",
       "3    STACH   17620    VA      2007.0  29.0    1   164.0    56.0    7.0   1.0   \n",
       "4    SBRAD   12967    VA      8685.0  57.0    0     NaN     NaN    0.0   0.0   \n",
       "\n",
       "       device       recording_date  \\\n",
       "0  CS100    3  1993-09-01 11:31:17   \n",
       "1  CS100    3  1993-09-01 11:31:17   \n",
       "2       CS-12  1992-06-09 15:52:36   \n",
       "3  AT-6 C 5.6  1997-02-08 18:33:30   \n",
       "4  CS100    3  1994-09-13 10:21:14   \n",
       "\n",
       "                                              report  \\\n",
       "0  sinustachykardie wpw, typ a lagetyp normal 4.4...   \n",
       "1  sinustachykardie wpw, typ a lagetyp normal 4.4...   \n",
       "2  sinusrhythmus linkslagetyp intraventr. leitung...   \n",
       "3           sinus tachycardia. otherwise normal ecg.   \n",
       "4  sinusbradykardie lagetyp normal sonst normales...   \n",
       "\n",
       "                                  scp_codes heart_axis infarction_stadium1  \\\n",
       "0             {'AFLT': 100.0, 'STACH': 0.0}        MID                 NaN   \n",
       "1             {'AFLT': 100.0, 'STACH': 0.0}        MID                 NaN   \n",
       "2  {'LVH': 100.0, 'ISC_': 100.0, 'SR': 0.0}        LAD                 NaN   \n",
       "3              {'NORM': 80.0, 'STACH': 0.0}        NaN                 NaN   \n",
       "4              {'NORM': 80.0, 'SBRAD': 0.0}        MID                 NaN   \n",
       "\n",
       "  infarction_stadium2  validated_by  second_opinion  \\\n",
       "0                 NaN           NaN           False   \n",
       "1                 NaN           NaN           False   \n",
       "2                 NaN           1.0           False   \n",
       "3                 NaN           0.0           False   \n",
       "4                 NaN           NaN           False   \n",
       "\n",
       "   initial_autogenerated_report  validated_by_human baseline_drift  \\\n",
       "0                          True               False            NaN   \n",
       "1                          True               False            NaN   \n",
       "2                         False                True            NaN   \n",
       "3                         False                True            NaN   \n",
       "4                          True               False            NaN   \n",
       "\n",
       "  static_noise burst_noise electrodes_problems extra_beats pacemaker  \\\n",
       "0          NaN         NaN                 NaN         NaN       NaN   \n",
       "1          NaN         NaN                 NaN         NaN       NaN   \n",
       "2          NaN         NaN                 NaN         NaN       NaN   \n",
       "3          NaN         NaN                 NaN         NaN       NaN   \n",
       "4   , I-AVR,           NaN                 NaN         NaN       NaN   \n",
       "\n",
       "   strat_fold                filename_lr                filename_hr  \n",
       "0           6  records100/10000/10900_lr  records500/10000/10900_hr  \n",
       "1           6  records100/10000/10900_lr  records500/10000/10900_hr  \n",
       "2          10  records100/08000/08209_lr  records500/08000/08209_hr  \n",
       "3           1  records100/17000/17620_lr  records500/17000/17620_hr  \n",
       "4           1  records100/12000/12967_lr  records500/12000/12967_hr  "
      ]
     },
     "execution_count": 2,
     "metadata": {},
     "output_type": "execute_result"
    }
   ],
   "source": [
    "# read in csv file\n",
    "afib_df = pd.read_csv('../../../data/afib_data/coorteeqsrafva.csv', sep=';', header=0, index_col=0)\n",
    "\n",
    "# display all columns\n",
    "pd.options.display.max_columns = None\n",
    "\n",
    "# print df\n",
    "afib_df.head()"
   ]
  },
  {
   "cell_type": "code",
   "execution_count": 3,
   "metadata": {},
   "outputs": [
    {
     "data": {
      "text/plain": [
       "(6428, 30)"
      ]
     },
     "execution_count": 3,
     "metadata": {},
     "output_type": "execute_result"
    }
   ],
   "source": [
    "# rows and columns\n",
    "afib_df.shape"
   ]
  },
  {
   "cell_type": "markdown",
   "metadata": {},
   "source": [
    "The dataframe consists of **6428 rows** and **30 columns**."
   ]
  },
  {
   "cell_type": "code",
   "execution_count": 4,
   "metadata": {},
   "outputs": [
    {
     "name": "stdout",
     "output_type": "stream",
     "text": [
      "Normal (SR) has a total of 2000 rows\n",
      "Atrial Fibrillation (AF) has a total of 1587 rows\n",
      "Other arrhythmia (VA) has a total of 2841 rows\n"
     ]
    }
   ],
   "source": [
    "# check rows for each category in ritmi column\n",
    "print('Normal (SR) has a total of {} rows'.format(afib_df.loc[afib_df['ritmi'] == 'SR'].shape[0]))\n",
    "print('Atrial Fibrillation (AF) has a total of {} rows'.format(afib_df.loc[afib_df['ritmi'] == 'AF'].shape[0]))\n",
    "print('Other arrhythmia (VA) has a total of {} rows'.format(afib_df.loc[afib_df['ritmi'] == 'VA'].shape[0]))"
   ]
  },
  {
   "cell_type": "code",
   "execution_count": 5,
   "metadata": {},
   "outputs": [
    {
     "name": "stdout",
     "output_type": "stream",
     "text": [
      "<class 'pandas.core.frame.DataFrame'>\n",
      "Int64Index: 6428 entries, 0 to 6427\n",
      "Data columns (total 30 columns):\n",
      " #   Column                        Non-Null Count  Dtype  \n",
      "---  ------                        --------------  -----  \n",
      " 0   diagnosi                      6428 non-null   object \n",
      " 1   ecg_id                        6428 non-null   int64  \n",
      " 2   ritmi                         6428 non-null   object \n",
      " 3   patient_id                    6428 non-null   float64\n",
      " 4   age                           6394 non-null   float64\n",
      " 5   sex                           6428 non-null   int64  \n",
      " 6   height                        1866 non-null   float64\n",
      " 7   weight                        2428 non-null   float64\n",
      " 8   nurse                         6097 non-null   float64\n",
      " 9   site                          6423 non-null   float64\n",
      " 10  device                        6428 non-null   object \n",
      " 11  recording_date                6428 non-null   object \n",
      " 12  report                        6428 non-null   object \n",
      " 13  scp_codes                     6428 non-null   object \n",
      " 14  heart_axis                    4124 non-null   object \n",
      " 15  infarction_stadium1           1800 non-null   object \n",
      " 16  infarction_stadium2           26 non-null     object \n",
      " 17  validated_by                  3676 non-null   float64\n",
      " 18  second_opinion                6428 non-null   bool   \n",
      " 19  initial_autogenerated_report  6428 non-null   bool   \n",
      " 20  validated_by_human            6428 non-null   bool   \n",
      " 21  baseline_drift                444 non-null    object \n",
      " 22  static_noise                  1021 non-null   object \n",
      " 23  burst_noise                   265 non-null    object \n",
      " 24  electrodes_problems           10 non-null     object \n",
      " 25  extra_beats                   851 non-null    object \n",
      " 26  pacemaker                     294 non-null    object \n",
      " 27  strat_fold                    6428 non-null   int64  \n",
      " 28  filename_lr                   6428 non-null   object \n",
      " 29  filename_hr                   6428 non-null   object \n",
      "dtypes: bool(3), float64(7), int64(3), object(17)\n",
      "memory usage: 1.4+ MB\n"
     ]
    }
   ],
   "source": [
    "# print info of each colums\n",
    "afib_df.info()"
   ]
  },
  {
   "cell_type": "markdown",
   "metadata": {},
   "source": [
    "These columns have null values: **age, height, weight, nurse, site, heart_axis, infarction_stadium1, infarction_stadium2, validated_by, baseline_drfit, static_noise, burst_noise, electrodes_problems, extra_beats, pacemaker**. We might not want to drop all the null values since it will reduce our data points. Instead, we can replace the null values with the mean or the median for the quantitative columns in the feature engineering phase. We also will drop the columns that do not provide any significant insights. Let's take a look at the descriptive statistics for each column to detect the outliers."
   ]
  },
  {
   "cell_type": "code",
   "execution_count": 6,
   "metadata": {},
   "outputs": [
    {
     "data": {
      "text/html": [
       "<div>\n",
       "<style scoped>\n",
       "    .dataframe tbody tr th:only-of-type {\n",
       "        vertical-align: middle;\n",
       "    }\n",
       "\n",
       "    .dataframe tbody tr th {\n",
       "        vertical-align: top;\n",
       "    }\n",
       "\n",
       "    .dataframe thead th {\n",
       "        text-align: right;\n",
       "    }\n",
       "</style>\n",
       "<table border=\"1\" class=\"dataframe\">\n",
       "  <thead>\n",
       "    <tr style=\"text-align: right;\">\n",
       "      <th></th>\n",
       "      <th>ecg_id</th>\n",
       "      <th>patient_id</th>\n",
       "      <th>age</th>\n",
       "      <th>sex</th>\n",
       "      <th>height</th>\n",
       "      <th>weight</th>\n",
       "      <th>nurse</th>\n",
       "      <th>site</th>\n",
       "      <th>validated_by</th>\n",
       "      <th>strat_fold</th>\n",
       "    </tr>\n",
       "  </thead>\n",
       "  <tbody>\n",
       "    <tr>\n",
       "      <th>count</th>\n",
       "      <td>6428.000000</td>\n",
       "      <td>6428.000000</td>\n",
       "      <td>6394.000000</td>\n",
       "      <td>6428.000000</td>\n",
       "      <td>1866.000000</td>\n",
       "      <td>2428.000000</td>\n",
       "      <td>6097.000000</td>\n",
       "      <td>6423.000000</td>\n",
       "      <td>3676.000000</td>\n",
       "      <td>6428.000000</td>\n",
       "    </tr>\n",
       "    <tr>\n",
       "      <th>mean</th>\n",
       "      <td>11394.336341</td>\n",
       "      <td>11597.602520</td>\n",
       "      <td>61.740069</td>\n",
       "      <td>0.478376</td>\n",
       "      <td>166.796356</td>\n",
       "      <td>69.841845</td>\n",
       "      <td>2.093817</td>\n",
       "      <td>1.478281</td>\n",
       "      <td>0.753536</td>\n",
       "      <td>5.525047</td>\n",
       "    </tr>\n",
       "    <tr>\n",
       "      <th>std</th>\n",
       "      <td>6239.520460</td>\n",
       "      <td>6248.076594</td>\n",
       "      <td>17.739252</td>\n",
       "      <td>0.499571</td>\n",
       "      <td>10.249504</td>\n",
       "      <td>16.795521</td>\n",
       "      <td>3.124924</td>\n",
       "      <td>3.891928</td>\n",
       "      <td>1.075984</td>\n",
       "      <td>2.871204</td>\n",
       "    </tr>\n",
       "    <tr>\n",
       "      <th>min</th>\n",
       "      <td>2.000000</td>\n",
       "      <td>304.000000</td>\n",
       "      <td>4.000000</td>\n",
       "      <td>0.000000</td>\n",
       "      <td>95.000000</td>\n",
       "      <td>5.000000</td>\n",
       "      <td>0.000000</td>\n",
       "      <td>0.000000</td>\n",
       "      <td>0.000000</td>\n",
       "      <td>1.000000</td>\n",
       "    </tr>\n",
       "    <tr>\n",
       "      <th>25%</th>\n",
       "      <td>6112.250000</td>\n",
       "      <td>6489.250000</td>\n",
       "      <td>52.000000</td>\n",
       "      <td>0.000000</td>\n",
       "      <td>160.000000</td>\n",
       "      <td>58.000000</td>\n",
       "      <td>0.000000</td>\n",
       "      <td>0.000000</td>\n",
       "      <td>0.000000</td>\n",
       "      <td>3.000000</td>\n",
       "    </tr>\n",
       "    <tr>\n",
       "      <th>50%</th>\n",
       "      <td>11550.500000</td>\n",
       "      <td>11976.000000</td>\n",
       "      <td>64.000000</td>\n",
       "      <td>0.000000</td>\n",
       "      <td>167.000000</td>\n",
       "      <td>69.000000</td>\n",
       "      <td>1.000000</td>\n",
       "      <td>1.000000</td>\n",
       "      <td>1.000000</td>\n",
       "      <td>6.000000</td>\n",
       "    </tr>\n",
       "    <tr>\n",
       "      <th>75%</th>\n",
       "      <td>16785.500000</td>\n",
       "      <td>16958.000000</td>\n",
       "      <td>75.000000</td>\n",
       "      <td>1.000000</td>\n",
       "      <td>174.000000</td>\n",
       "      <td>79.000000</td>\n",
       "      <td>2.000000</td>\n",
       "      <td>2.000000</td>\n",
       "      <td>1.000000</td>\n",
       "      <td>8.000000</td>\n",
       "    </tr>\n",
       "    <tr>\n",
       "      <th>max</th>\n",
       "      <td>21833.000000</td>\n",
       "      <td>21792.000000</td>\n",
       "      <td>95.000000</td>\n",
       "      <td>1.000000</td>\n",
       "      <td>195.000000</td>\n",
       "      <td>210.000000</td>\n",
       "      <td>11.000000</td>\n",
       "      <td>49.000000</td>\n",
       "      <td>10.000000</td>\n",
       "      <td>10.000000</td>\n",
       "    </tr>\n",
       "  </tbody>\n",
       "</table>\n",
       "</div>"
      ],
      "text/plain": [
       "             ecg_id    patient_id          age          sex       height  \\\n",
       "count   6428.000000   6428.000000  6394.000000  6428.000000  1866.000000   \n",
       "mean   11394.336341  11597.602520    61.740069     0.478376   166.796356   \n",
       "std     6239.520460   6248.076594    17.739252     0.499571    10.249504   \n",
       "min        2.000000    304.000000     4.000000     0.000000    95.000000   \n",
       "25%     6112.250000   6489.250000    52.000000     0.000000   160.000000   \n",
       "50%    11550.500000  11976.000000    64.000000     0.000000   167.000000   \n",
       "75%    16785.500000  16958.000000    75.000000     1.000000   174.000000   \n",
       "max    21833.000000  21792.000000    95.000000     1.000000   195.000000   \n",
       "\n",
       "            weight        nurse         site  validated_by   strat_fold  \n",
       "count  2428.000000  6097.000000  6423.000000   3676.000000  6428.000000  \n",
       "mean     69.841845     2.093817     1.478281      0.753536     5.525047  \n",
       "std      16.795521     3.124924     3.891928      1.075984     2.871204  \n",
       "min       5.000000     0.000000     0.000000      0.000000     1.000000  \n",
       "25%      58.000000     0.000000     0.000000      0.000000     3.000000  \n",
       "50%      69.000000     1.000000     1.000000      1.000000     6.000000  \n",
       "75%      79.000000     2.000000     2.000000      1.000000     8.000000  \n",
       "max     210.000000    11.000000    49.000000     10.000000    10.000000  "
      ]
     },
     "execution_count": 6,
     "metadata": {},
     "output_type": "execute_result"
    }
   ],
   "source": [
    "# get descriptive statistics for quantitative columns\n",
    "afib_df.describe()"
   ]
  },
  {
   "cell_type": "markdown",
   "metadata": {},
   "source": [
    "We can only include age, height, and weight columns as these columns do provide us useful information when we're looking at the descriptive statistics."
   ]
  },
  {
   "cell_type": "code",
   "execution_count": 7,
   "metadata": {},
   "outputs": [
    {
     "data": {
      "text/html": [
       "<div>\n",
       "<style scoped>\n",
       "    .dataframe tbody tr th:only-of-type {\n",
       "        vertical-align: middle;\n",
       "    }\n",
       "\n",
       "    .dataframe tbody tr th {\n",
       "        vertical-align: top;\n",
       "    }\n",
       "\n",
       "    .dataframe thead th {\n",
       "        text-align: right;\n",
       "    }\n",
       "</style>\n",
       "<table border=\"1\" class=\"dataframe\">\n",
       "  <thead>\n",
       "    <tr style=\"text-align: right;\">\n",
       "      <th></th>\n",
       "      <th>age</th>\n",
       "      <th>height</th>\n",
       "      <th>weight</th>\n",
       "    </tr>\n",
       "  </thead>\n",
       "  <tbody>\n",
       "    <tr>\n",
       "      <th>count</th>\n",
       "      <td>6394.000000</td>\n",
       "      <td>1866.000000</td>\n",
       "      <td>2428.000000</td>\n",
       "    </tr>\n",
       "    <tr>\n",
       "      <th>mean</th>\n",
       "      <td>61.740069</td>\n",
       "      <td>166.796356</td>\n",
       "      <td>69.841845</td>\n",
       "    </tr>\n",
       "    <tr>\n",
       "      <th>std</th>\n",
       "      <td>17.739252</td>\n",
       "      <td>10.249504</td>\n",
       "      <td>16.795521</td>\n",
       "    </tr>\n",
       "    <tr>\n",
       "      <th>min</th>\n",
       "      <td>4.000000</td>\n",
       "      <td>95.000000</td>\n",
       "      <td>5.000000</td>\n",
       "    </tr>\n",
       "    <tr>\n",
       "      <th>25%</th>\n",
       "      <td>52.000000</td>\n",
       "      <td>160.000000</td>\n",
       "      <td>58.000000</td>\n",
       "    </tr>\n",
       "    <tr>\n",
       "      <th>50%</th>\n",
       "      <td>64.000000</td>\n",
       "      <td>167.000000</td>\n",
       "      <td>69.000000</td>\n",
       "    </tr>\n",
       "    <tr>\n",
       "      <th>75%</th>\n",
       "      <td>75.000000</td>\n",
       "      <td>174.000000</td>\n",
       "      <td>79.000000</td>\n",
       "    </tr>\n",
       "    <tr>\n",
       "      <th>max</th>\n",
       "      <td>95.000000</td>\n",
       "      <td>195.000000</td>\n",
       "      <td>210.000000</td>\n",
       "    </tr>\n",
       "  </tbody>\n",
       "</table>\n",
       "</div>"
      ],
      "text/plain": [
       "               age       height       weight\n",
       "count  6394.000000  1866.000000  2428.000000\n",
       "mean     61.740069   166.796356    69.841845\n",
       "std      17.739252    10.249504    16.795521\n",
       "min       4.000000    95.000000     5.000000\n",
       "25%      52.000000   160.000000    58.000000\n",
       "50%      64.000000   167.000000    69.000000\n",
       "75%      75.000000   174.000000    79.000000\n",
       "max      95.000000   195.000000   210.000000"
      ]
     },
     "execution_count": 7,
     "metadata": {},
     "output_type": "execute_result"
    }
   ],
   "source": [
    "# get descriptive statistics for age, height, and weight columns\n",
    "afib_df[['age', 'height', 'weight']].describe()"
   ]
  },
  {
   "cell_type": "markdown",
   "metadata": {},
   "source": [
    "Looking at min, max, and mean for each column, we can conclude that there is no outlier exist in these three columns. Thus, we do not need to remove any outliers. "
   ]
  },
  {
   "cell_type": "markdown",
   "metadata": {},
   "source": [
    "Before writing the dataframe to csv file, we need to determine which column we should drop as we have 31 columns. By looking at the dataframe, we can tell that there are 6 important columns so far, which are diagnosi, ritmi, age, sex, height, weight. What about the rest? Let's take a look at the unique values for each column to determine which column we will drop."
   ]
  },
  {
   "cell_type": "code",
   "execution_count": 8,
   "metadata": {},
   "outputs": [
    {
     "data": {
      "text/plain": [
       "Index(['diagnosi', 'ecg_id', 'ritmi', 'patient_id', 'age', 'sex', 'height',\n",
       "       'weight', 'nurse', 'site', 'device', 'recording_date', 'report',\n",
       "       'scp_codes', 'heart_axis', 'infarction_stadium1', 'infarction_stadium2',\n",
       "       'validated_by', 'second_opinion', 'initial_autogenerated_report',\n",
       "       'validated_by_human', 'baseline_drift', 'static_noise', 'burst_noise',\n",
       "       'electrodes_problems', 'extra_beats', 'pacemaker', 'strat_fold',\n",
       "       'filename_lr', 'filename_hr'],\n",
       "      dtype='object')"
      ]
     },
     "execution_count": 8,
     "metadata": {},
     "output_type": "execute_result"
    }
   ],
   "source": [
    "# get columns\n",
    "afib_df.columns"
   ]
  },
  {
   "cell_type": "code",
   "execution_count": 9,
   "metadata": {},
   "outputs": [
    {
     "data": {
      "text/plain": [
       "10564    2\n",
       "2889     2\n",
       "1232     2\n",
       "20052    2\n",
       "21541    2\n",
       "        ..\n",
       "19148    1\n",
       "717      1\n",
       "4815     1\n",
       "13011    1\n",
       "16384    1\n",
       "Name: ecg_id, Length: 6341, dtype: int64"
      ]
     },
     "execution_count": 9,
     "metadata": {},
     "output_type": "execute_result"
    }
   ],
   "source": [
    "# unique ECG identifier\n",
    "afib_df['ecg_id'].value_counts() # will drop"
   ]
  },
  {
   "cell_type": "code",
   "execution_count": 10,
   "metadata": {},
   "outputs": [
    {
     "data": {
      "text/plain": [
       "17542.0    10\n",
       "15654.0     9\n",
       "8304.0      9\n",
       "20318.0     7\n",
       "10099.0     6\n",
       "           ..\n",
       "17900.0     1\n",
       "3605.0      1\n",
       "16205.0     1\n",
       "3907.0      1\n",
       "424.0       1\n",
       "Name: patient_id, Length: 5698, dtype: int64"
      ]
     },
     "execution_count": 10,
     "metadata": {},
     "output_type": "execute_result"
    }
   ],
   "source": [
    "# unique patient identifier\n",
    "afib_df['patient_id'].value_counts() # will drop "
   ]
  },
  {
   "cell_type": "code",
   "execution_count": 11,
   "metadata": {},
   "outputs": [
    {
     "data": {
      "text/plain": [
       "0.0     2521\n",
       "1.0     1908\n",
       "9.0      181\n",
       "10.0     181\n",
       "3.0      179\n",
       "5.0      177\n",
       "6.0      166\n",
       "4.0      159\n",
       "8.0      159\n",
       "2.0      157\n",
       "7.0      155\n",
       "11.0     154\n",
       "Name: nurse, dtype: int64"
      ]
     },
     "execution_count": 11,
     "metadata": {},
     "output_type": "execute_result"
    }
   ],
   "source": [
    "# involved nurse (pseudonymized)\n",
    "afib_df['nurse'].value_counts() # will drop"
   ]
  },
  {
   "cell_type": "code",
   "execution_count": 12,
   "metadata": {},
   "outputs": [
    {
     "data": {
      "text/plain": [
       "0.0     2679\n",
       "2.0     1743\n",
       "1.0     1670\n",
       "3.0      101\n",
       "4.0       18\n",
       "10.0      16\n",
       "7.0       14\n",
       "5.0       12\n",
       "8.0       12\n",
       "11.0      12\n",
       "15.0       9\n",
       "16.0       9\n",
       "9.0        9\n",
       "14.0       8\n",
       "17.0       8\n",
       "20.0       7\n",
       "6.0        7\n",
       "36.0       6\n",
       "28.0       6\n",
       "23.0       5\n",
       "18.0       5\n",
       "22.0       4\n",
       "26.0       4\n",
       "24.0       4\n",
       "12.0       4\n",
       "32.0       4\n",
       "40.0       4\n",
       "27.0       4\n",
       "33.0       3\n",
       "31.0       3\n",
       "43.0       3\n",
       "21.0       3\n",
       "34.0       3\n",
       "29.0       3\n",
       "37.0       3\n",
       "13.0       2\n",
       "30.0       2\n",
       "39.0       2\n",
       "19.0       2\n",
       "38.0       2\n",
       "35.0       2\n",
       "47.0       2\n",
       "45.0       1\n",
       "49.0       1\n",
       "46.0       1\n",
       "41.0       1\n",
       "Name: site, dtype: int64"
      ]
     },
     "execution_count": 12,
     "metadata": {},
     "output_type": "execute_result"
    }
   ],
   "source": [
    "# recording site (pseudonymized)\n",
    "afib_df['site'].value_counts() # will drop"
   ]
  },
  {
   "cell_type": "code",
   "execution_count": 13,
   "metadata": {},
   "outputs": [
    {
     "data": {
      "text/plain": [
       "CS100    3    2025\n",
       "CS-12         1388\n",
       "AT-6 C 5.5    1004\n",
       "CS-12   E      669\n",
       "AT-6     6     633\n",
       "AT-60    3     334\n",
       "AT-6 C 5.8     216\n",
       "AT-6 C          95\n",
       "AT-6 C 5.0      30\n",
       "AT-6 C 5.3      17\n",
       "AT-6 C 5.6      17\n",
       "Name: device, dtype: int64"
      ]
     },
     "execution_count": 13,
     "metadata": {},
     "output_type": "execute_result"
    }
   ],
   "source": [
    "# recording device\n",
    "afib_df['device'].value_counts() # will drop"
   ]
  },
  {
   "cell_type": "code",
   "execution_count": 14,
   "metadata": {},
   "outputs": [
    {
     "data": {
      "text/plain": [
       "1992-04-09 16:52:20    2\n",
       "1993-02-27 13:36:18    2\n",
       "1993-04-23 07:12:28    2\n",
       "1996-07-20 15:28:09    2\n",
       "1996-06-28 11:13:59    2\n",
       "                      ..\n",
       "1986-09-17 09:33:37    1\n",
       "1987-04-29 17:02:39    1\n",
       "1994-08-03 11:18:54    1\n",
       "1994-04-24 15:02:16    1\n",
       "1993-04-26 12:56:59    1\n",
       "Name: recording_date, Length: 6339, dtype: int64"
      ]
     },
     "execution_count": 14,
     "metadata": {},
     "output_type": "execute_result"
    }
   ],
   "source": [
    "# ECG recording date and time\n",
    "afib_df['recording_date'].value_counts() # will keep"
   ]
  },
  {
   "cell_type": "code",
   "execution_count": 15,
   "metadata": {},
   "outputs": [
    {
     "data": {
      "text/plain": [
       "sinus rhythm. normal ecg.                                                                                                                                                                                                                     202\n",
       "schrittmacher ekg 4.46                          unbestÄtigter bericht                                                                                                                                                                         198\n",
       "sinusrhythmus lagetyp normal normales ekg                                                                                                                                                                                                     150\n",
       "sinusrhythmus lagetyp normal normales ekg 4.46                          unbestÄtigter bericht                                                                                                                                                 134\n",
       "sinusrhythmus normales ekg                                                                                                                                                                                                                     95\n",
       "                                                                                                                                                                                                                                             ... \n",
       "ventrikulÄre extrasystole(n), trigeminus sinus arrhythmie lagetyp normal st & t abnorm, wahrscheinlich    inferiore ischÄmie oder linksbelastung t abnorm in hochlateralen ableitungen 4.46                          unbestÄtigter bericht      1\n",
       "sinusrhythmus linkstyp qrs(t) abnormal    hochlateraler infarkt mÖglich                                                                                                                                                                         1\n",
       "sinus bradykardie lagetyp normal grenzbefund                                                                                                                                                                                                    1\n",
       "sinus arrhythmia. prolonged pr interval. otherwise normal ecg.                                                                                                                                                                                  1\n",
       "premature ventricular contraction(s). premature atrial contraction(s). sinus tachycardia. otherwise no definite pathology.                                                                                                                      1\n",
       "Name: report, Length: 3967, dtype: int64"
      ]
     },
     "execution_count": 15,
     "metadata": {},
     "output_type": "execute_result"
    }
   ],
   "source": [
    "# ECG report from diagnosing cardiologist\n",
    "afib_df['report'].value_counts() # will drop"
   ]
  },
  {
   "cell_type": "code",
   "execution_count": 16,
   "metadata": {},
   "outputs": [
    {
     "data": {
      "text/plain": [
       "{'NORM': 100.0, 'SR': 0.0}                                     752\n",
       "{'PACE': 100.0}                                                274\n",
       "{'NORM': 80.0, 'SARRH': 0.0}                                   211\n",
       "{'NORM': 80.0, 'SBRAD': 0.0}                                   151\n",
       "{'NORM': 80.0, 'STACH': 0.0}                                   128\n",
       "                                                              ... \n",
       "{'LAFB': 100.0, 'CRBBB': 100.0, 'ISCIN': 100.0, 'SR': 0.0}       1\n",
       "{'CRBBB': 100.0, 'LAFB': 100.0, 'RVH': 50.0, 'SR': 0.0}          1\n",
       "{'ISCAS': 100.0, 'LAFB': 100.0, '1AVB': 100.0, 'AFLT': 0.0}      1\n",
       "{'ASMI': 100.0, 'IMI': 15.0, 'LAFB': 100.0, 'SBRAD': 0.0}        1\n",
       "{'IPLMI': 50.0, 'SR': 0.0}                                       1\n",
       "Name: scp_codes, Length: 2515, dtype: int64"
      ]
     },
     "execution_count": 16,
     "metadata": {},
     "output_type": "execute_result"
    }
   ],
   "source": [
    "# SCP ECG statements\n",
    "afib_df['scp_codes'].value_counts() # will drop"
   ]
  },
  {
   "cell_type": "code",
   "execution_count": 17,
   "metadata": {},
   "outputs": [
    {
     "data": {
      "text/plain": [
       "MID     2262\n",
       "LAD     1187\n",
       "ALAD     482\n",
       "RAD       87\n",
       "ARAD      60\n",
       "AXR       23\n",
       "AXL       22\n",
       "SAG        1\n",
       "Name: heart_axis, dtype: int64"
      ]
     },
     "execution_count": 17,
     "metadata": {},
     "output_type": "execute_result"
    }
   ],
   "source": [
    "# heart’s electrical axis \n",
    "afib_df['heart_axis'].value_counts() # will keep"
   ]
  },
  {
   "cell_type": "code",
   "execution_count": 18,
   "metadata": {},
   "outputs": [
    {
     "data": {
      "text/plain": [
       "unknown           1092\n",
       "Stadium III        316\n",
       "Stadium II-III     297\n",
       "Stadium I           66\n",
       "Stadium II          26\n",
       "Stadium I-II         3\n",
       "Name: infarction_stadium1, dtype: int64"
      ]
     },
     "execution_count": 18,
     "metadata": {},
     "output_type": "execute_result"
    }
   ],
   "source": [
    "# infarction stadium \n",
    "afib_df['infarction_stadium1'].value_counts() # will drop"
   ]
  },
  {
   "cell_type": "code",
   "execution_count": 19,
   "metadata": {},
   "outputs": [
    {
     "data": {
      "text/plain": [
       "Stadium III    14\n",
       "Stadium I       6\n",
       "Stadium II      6\n",
       "Name: infarction_stadium2, dtype: int64"
      ]
     },
     "execution_count": 19,
     "metadata": {},
     "output_type": "execute_result"
    }
   ],
   "source": [
    "# second infarction stadium\n",
    "afib_df['infarction_stadium2'].value_counts() # will drop"
   ]
  },
  {
   "cell_type": "code",
   "execution_count": 20,
   "metadata": {},
   "outputs": [
    {
     "data": {
      "text/plain": [
       "1.0     1761\n",
       "0.0     1621\n",
       "2.0      156\n",
       "3.0       39\n",
       "6.0       27\n",
       "4.0       26\n",
       "7.0       23\n",
       "5.0       12\n",
       "8.0        7\n",
       "9.0        3\n",
       "10.0       1\n",
       "Name: validated_by, dtype: int64"
      ]
     },
     "execution_count": 20,
     "metadata": {},
     "output_type": "execute_result"
    }
   ],
   "source": [
    "# validating cardiologist \n",
    "afib_df['validated_by'].value_counts() # will drop"
   ]
  },
  {
   "cell_type": "code",
   "execution_count": 21,
   "metadata": {},
   "outputs": [
    {
     "data": {
      "text/plain": [
       "False    6320\n",
       "True      108\n",
       "Name: second_opinion, dtype: int64"
      ]
     },
     "execution_count": 21,
     "metadata": {},
     "output_type": "execute_result"
    }
   ],
   "source": [
    "# flag for second (deviating) opinion\n",
    "afib_df['second_opinion'].value_counts() # will drop"
   ]
  },
  {
   "cell_type": "code",
   "execution_count": 22,
   "metadata": {},
   "outputs": [
    {
     "data": {
      "text/plain": [
       "False    4223\n",
       "True     2205\n",
       "Name: initial_autogenerated_report, dtype: int64"
      ]
     },
     "execution_count": 22,
     "metadata": {},
     "output_type": "execute_result"
    }
   ],
   "source": [
    "# initial autogenerated report by ECG device\n",
    "afib_df['initial_autogenerated_report'].value_counts() # will keep"
   ]
  },
  {
   "cell_type": "code",
   "execution_count": 23,
   "metadata": {},
   "outputs": [
    {
     "data": {
      "text/plain": [
       "True     4559\n",
       "False    1869\n",
       "Name: validated_by_human, dtype: int64"
      ]
     },
     "execution_count": 23,
     "metadata": {},
     "output_type": "execute_result"
    }
   ],
   "source": [
    "# validated by human\n",
    "afib_df['validated_by_human'].value_counts() # will keep"
   ]
  },
  {
   "cell_type": "code",
   "execution_count": 24,
   "metadata": {},
   "outputs": [
    {
     "data": {
      "text/plain": [
       " , V6             69\n",
       " , V3             22\n",
       " , V1             19\n",
       " , alles          18\n",
       " , I-AVF          17\n",
       "                  ..\n",
       " , I - AVF         1\n",
       " , III,V5,V6       1\n",
       "I,III,V3,V4,       1\n",
       " , drift           1\n",
       " , AVL             1\n",
       "Name: baseline_drift, Length: 138, dtype: int64"
      ]
     },
     "execution_count": 24,
     "metadata": {},
     "output_type": "execute_result"
    }
   ],
   "source": [
    "# baseline drift or jump present\n",
    "afib_df['baseline_drift'].value_counts() # will drop"
   ]
  },
  {
   "cell_type": "code",
   "execution_count": 25,
   "metadata": {},
   "outputs": [
    {
     "data": {
      "text/plain": [
       " , I-AVR,                    255\n",
       " , I-AVF,                    255\n",
       " , alles,                    226\n",
       " , I-V2,                      54\n",
       " , I-V1,                      49\n",
       "                            ... \n",
       " , I,II,AVL,AVF,               1\n",
       "I,III,AVF,AVL,V2,  ,           1\n",
       " , I,II,AVL-AVF,               1\n",
       " , I-V2,V6,                    1\n",
       " , I-V1, noisy recording,      1\n",
       "Name: static_noise, Length: 67, dtype: int64"
      ]
     },
     "execution_count": 25,
     "metadata": {},
     "output_type": "execute_result"
    }
   ],
   "source": [
    "# electric hum/static noise present\n",
    "afib_df['static_noise'].value_counts() # will drop"
   ]
  },
  {
   "cell_type": "code",
   "execution_count": 26,
   "metadata": {},
   "outputs": [
    {
     "data": {
      "text/plain": [
       "alles    57\n",
       "V1       33\n",
       "V1,V2    27\n",
       "I-V1     11\n",
       "I-V2      9\n",
       "         ..\n",
       "V1-V5     1\n",
       "V1-V4     1\n",
       "V3-V6     1\n",
       "V5,V6     1\n",
       "v1,2      1\n",
       "Name: burst_noise, Length: 68, dtype: int64"
      ]
     },
     "execution_count": 26,
     "metadata": {},
     "output_type": "execute_result"
    }
   ],
   "source": [
    "# burst_noise\n",
    "afib_df['burst_noise'].value_counts() # will drop"
   ]
  },
  {
   "cell_type": "code",
   "execution_count": 27,
   "metadata": {},
   "outputs": [
    {
     "data": {
      "text/plain": [
       "V1        2\n",
       "V6        2\n",
       "V4        2\n",
       "v4, v5    1\n",
       "aVL???    1\n",
       "V5        1\n",
       "V1???     1\n",
       "Name: electrodes_problems, dtype: int64"
      ]
     },
     "execution_count": 27,
     "metadata": {},
     "output_type": "execute_result"
    }
   ],
   "source": [
    "# electrodes problems\n",
    "afib_df['electrodes_problems'].value_counts() # will drop"
   ]
  },
  {
   "cell_type": "code",
   "execution_count": 28,
   "metadata": {},
   "outputs": [
    {
     "data": {
      "text/plain": [
       "1ES           172\n",
       "VES           101\n",
       "SVES           96\n",
       "VES1,alles     84\n",
       "2ES            72\n",
       "             ... \n",
       "2,II            1\n",
       "2,V1-V3         1\n",
       "I-AVR           1\n",
       "VES1,I-AVF      1\n",
       "4ES,SVES        1\n",
       "Name: extra_beats, Length: 80, dtype: int64"
      ]
     },
     "execution_count": 28,
     "metadata": {},
     "output_type": "execute_result"
    }
   ],
   "source": [
    "# extra beats\n",
    "afib_df['extra_beats'].value_counts() # will drop"
   ]
  },
  {
   "cell_type": "code",
   "execution_count": 29,
   "metadata": {},
   "outputs": [
    {
     "data": {
      "text/plain": [
       "ja, pacemaker    291\n",
       "ja, nan            1\n",
       "?, nan             1\n",
       "PACE????, nan      1\n",
       "Name: pacemaker, dtype: int64"
      ]
     },
     "execution_count": 29,
     "metadata": {},
     "output_type": "execute_result"
    }
   ],
   "source": [
    "# pacemaker\n",
    "afib_df['pacemaker'].value_counts() # will drop"
   ]
  },
  {
   "cell_type": "code",
   "execution_count": 30,
   "metadata": {},
   "outputs": [
    {
     "data": {
      "text/plain": [
       "7     667\n",
       "10    648\n",
       "5     648\n",
       "9     646\n",
       "8     646\n",
       "1     640\n",
       "6     635\n",
       "2     635\n",
       "4     635\n",
       "3     628\n",
       "Name: strat_fold, dtype: int64"
      ]
     },
     "execution_count": 30,
     "metadata": {},
     "output_type": "execute_result"
    }
   ],
   "source": [
    "# suggested stratified folds\n",
    "afib_df['strat_fold'].value_counts() # will keep"
   ]
  },
  {
   "cell_type": "code",
   "execution_count": 31,
   "metadata": {},
   "outputs": [
    {
     "data": {
      "text/plain": [
       "records100/10000/10363_lr    2\n",
       "records100/10000/10075_lr    2\n",
       "records100/16000/16929_lr    2\n",
       "records100/04000/04763_lr    2\n",
       "records100/04000/04262_lr    2\n",
       "                            ..\n",
       "records100/06000/06354_lr    1\n",
       "records100/00000/00656_lr    1\n",
       "records100/15000/15681_lr    1\n",
       "records100/06000/06671_lr    1\n",
       "records100/16000/16756_lr    1\n",
       "Name: filename_lr, Length: 6341, dtype: int64"
      ]
     },
     "execution_count": 31,
     "metadata": {},
     "output_type": "execute_result"
    }
   ],
   "source": [
    "# filename_lr\n",
    "afib_df['filename_lr'].value_counts() # will drop"
   ]
  },
  {
   "cell_type": "code",
   "execution_count": 32,
   "metadata": {},
   "outputs": [
    {
     "data": {
      "text/plain": [
       "records500/03000/03267_hr    2\n",
       "records500/10000/10900_hr    2\n",
       "records500/00000/00017_hr    2\n",
       "records500/10000/10363_hr    2\n",
       "records500/01000/01919_hr    2\n",
       "                            ..\n",
       "records500/11000/11766_hr    1\n",
       "records500/17000/17312_hr    1\n",
       "records500/01000/01796_hr    1\n",
       "records500/03000/03034_hr    1\n",
       "records500/10000/10371_hr    1\n",
       "Name: filename_hr, Length: 6341, dtype: int64"
      ]
     },
     "execution_count": 32,
     "metadata": {},
     "output_type": "execute_result"
    }
   ],
   "source": [
    "# filename_hr\n",
    "afib_df['filename_hr'].value_counts() # will drop"
   ]
  },
  {
   "cell_type": "markdown",
   "metadata": {},
   "source": [
    "After successfully checking unique values for each column, we decide to remove **ecg_id, patient_id, nurse, site, report, scp_codes, validated_by, second_opinion, initial_autogenerated_report, baseline_drift, static_noise, burst_noise, electrodes_problems, extra_beats, pacemaker, filename_lr, filename_hr** as some of them do not provide significant information, while some of them will make it very hard to visualize."
   ]
  },
  {
   "cell_type": "code",
   "execution_count": 33,
   "metadata": {},
   "outputs": [],
   "source": [
    "# drop columns\n",
    "afib_df = afib_df.drop(columns=['ecg_id', 'patient_id', 'nurse', 'site', 'device', 'report', 'scp_codes', 'infarction_stadium1', 'infarction_stadium2', 'validated_by', 'second_opinion', 'initial_autogenerated_report', 'baseline_drift', 'static_noise', 'burst_noise', 'electrodes_problems', 'extra_beats', 'pacemaker', 'filename_lr', 'filename_hr'])"
   ]
  },
  {
   "cell_type": "code",
   "execution_count": 34,
   "metadata": {},
   "outputs": [
    {
     "data": {
      "text/html": [
       "<div>\n",
       "<style scoped>\n",
       "    .dataframe tbody tr th:only-of-type {\n",
       "        vertical-align: middle;\n",
       "    }\n",
       "\n",
       "    .dataframe tbody tr th {\n",
       "        vertical-align: top;\n",
       "    }\n",
       "\n",
       "    .dataframe thead th {\n",
       "        text-align: right;\n",
       "    }\n",
       "</style>\n",
       "<table border=\"1\" class=\"dataframe\">\n",
       "  <thead>\n",
       "    <tr style=\"text-align: right;\">\n",
       "      <th></th>\n",
       "      <th>diagnosi</th>\n",
       "      <th>ritmi</th>\n",
       "      <th>age</th>\n",
       "      <th>sex</th>\n",
       "      <th>height</th>\n",
       "      <th>weight</th>\n",
       "      <th>recording_date</th>\n",
       "      <th>heart_axis</th>\n",
       "      <th>validated_by_human</th>\n",
       "      <th>strat_fold</th>\n",
       "    </tr>\n",
       "  </thead>\n",
       "  <tbody>\n",
       "    <tr>\n",
       "      <th>0</th>\n",
       "      <td>STACH</td>\n",
       "      <td>VA</td>\n",
       "      <td>54.0</td>\n",
       "      <td>0</td>\n",
       "      <td>NaN</td>\n",
       "      <td>NaN</td>\n",
       "      <td>1993-09-01 11:31:17</td>\n",
       "      <td>MID</td>\n",
       "      <td>False</td>\n",
       "      <td>6</td>\n",
       "    </tr>\n",
       "    <tr>\n",
       "      <th>1</th>\n",
       "      <td>AFLT</td>\n",
       "      <td>AF</td>\n",
       "      <td>54.0</td>\n",
       "      <td>0</td>\n",
       "      <td>NaN</td>\n",
       "      <td>NaN</td>\n",
       "      <td>1993-09-01 11:31:17</td>\n",
       "      <td>MID</td>\n",
       "      <td>False</td>\n",
       "      <td>6</td>\n",
       "    </tr>\n",
       "    <tr>\n",
       "      <th>2</th>\n",
       "      <td>SR</td>\n",
       "      <td>SR</td>\n",
       "      <td>55.0</td>\n",
       "      <td>0</td>\n",
       "      <td>NaN</td>\n",
       "      <td>NaN</td>\n",
       "      <td>1992-06-09 15:52:36</td>\n",
       "      <td>LAD</td>\n",
       "      <td>True</td>\n",
       "      <td>10</td>\n",
       "    </tr>\n",
       "    <tr>\n",
       "      <th>3</th>\n",
       "      <td>STACH</td>\n",
       "      <td>VA</td>\n",
       "      <td>29.0</td>\n",
       "      <td>1</td>\n",
       "      <td>164.0</td>\n",
       "      <td>56.0</td>\n",
       "      <td>1997-02-08 18:33:30</td>\n",
       "      <td>NaN</td>\n",
       "      <td>True</td>\n",
       "      <td>1</td>\n",
       "    </tr>\n",
       "    <tr>\n",
       "      <th>4</th>\n",
       "      <td>SBRAD</td>\n",
       "      <td>VA</td>\n",
       "      <td>57.0</td>\n",
       "      <td>0</td>\n",
       "      <td>NaN</td>\n",
       "      <td>NaN</td>\n",
       "      <td>1994-09-13 10:21:14</td>\n",
       "      <td>MID</td>\n",
       "      <td>False</td>\n",
       "      <td>1</td>\n",
       "    </tr>\n",
       "  </tbody>\n",
       "</table>\n",
       "</div>"
      ],
      "text/plain": [
       "  diagnosi ritmi   age  sex  height  weight       recording_date heart_axis  \\\n",
       "0    STACH    VA  54.0    0     NaN     NaN  1993-09-01 11:31:17        MID   \n",
       "1     AFLT    AF  54.0    0     NaN     NaN  1993-09-01 11:31:17        MID   \n",
       "2       SR    SR  55.0    0     NaN     NaN  1992-06-09 15:52:36        LAD   \n",
       "3    STACH    VA  29.0    1   164.0    56.0  1997-02-08 18:33:30        NaN   \n",
       "4    SBRAD    VA  57.0    0     NaN     NaN  1994-09-13 10:21:14        MID   \n",
       "\n",
       "   validated_by_human  strat_fold  \n",
       "0               False           6  \n",
       "1               False           6  \n",
       "2                True          10  \n",
       "3                True           1  \n",
       "4               False           1  "
      ]
     },
     "execution_count": 34,
     "metadata": {},
     "output_type": "execute_result"
    }
   ],
   "source": [
    "# check df\n",
    "afib_df.head()"
   ]
  },
  {
   "cell_type": "markdown",
   "metadata": {},
   "source": [
    "Let's recode values for ritmi and validated_by_human from string and boolean to numeric values. We also create grouped variables for age, height, weight, and recording_date to make it easier for visualizing."
   ]
  },
  {
   "cell_type": "code",
   "execution_count": 35,
   "metadata": {},
   "outputs": [],
   "source": [
    "# dictionary to hold values \n",
    "num_di = {'SR': 0, 'AF': 1, 'VA': 2}\n",
    "\n",
    "# replace SR with 0, AF with 1, VA with 2\n",
    "afib_df = afib_df.replace({'ritmi': num_di})"
   ]
  },
  {
   "cell_type": "code",
   "execution_count": 36,
   "metadata": {},
   "outputs": [],
   "source": [
    "# dictionary to hold values \n",
    "bool_di = {False: 0, True: 1}\n",
    "\n",
    "# replace False with 0, True with 1\n",
    "afib_df = afib_df.replace({'validated_by_human': bool_di})"
   ]
  },
  {
   "cell_type": "markdown",
   "metadata": {},
   "source": [
    "We will also create a grouped variable for age called age_group. There will be 10 groups:\n",
    "* 0 - 9 Years\t\n",
    "* 10 - 19 Years\t\n",
    "* 20 - 29 Years\t\n",
    "* 30 - 39 Years\t\n",
    "* 40 - 49 Years\t\n",
    "* 50 - 59 Years\t\n",
    "* 60 - 69 Years\t\n",
    "* 70 - 79 Years\t\n",
    "* 80+ Years\t\n",
    "* Missing (For null values)"
   ]
  },
  {
   "cell_type": "code",
   "execution_count": 37,
   "metadata": {},
   "outputs": [],
   "source": [
    "# define a function to recode age\n",
    "def get_age_group(age):\n",
    "    age_group = ''\n",
    "    if (age >=0 and age <=9):\n",
    "        age_group = '0-9 Years'\n",
    "    elif (age >= 10 and age <=19):\n",
    "        age_group = '10-19 Years'\n",
    "    elif (age >=20 and age <= 29):\n",
    "        age_group = '20-29 Years'\n",
    "    elif (age >=30 and age <= 39):\n",
    "        age_group = '30-39 Years'\n",
    "    elif (age >= 40 and age <= 49):\n",
    "        age_group = '40-49 Years'\n",
    "    elif (age >= 50 and age <= 59):\n",
    "        age_group = '50-59 Years'\n",
    "    elif (age >= 60 and age <= 69):\n",
    "        age_group = '60-69 Years'\n",
    "    elif (age >= 70 and age <= 79):\n",
    "        age_group = '70-79 Years'\n",
    "    elif (age >= 80):\n",
    "        age_group = '80+ Years'\n",
    "    else:\n",
    "        age_group = 'Missing'\n",
    "    return age_group\n",
    "\n",
    "# add the new column called age_group and apply the above function\n",
    "afib_df['age_group'] = afib_df['age'].apply(get_age_group)"
   ]
  },
  {
   "cell_type": "markdown",
   "metadata": {},
   "source": [
    "Similarly, we'll create a grouped variable for height called height_group. There will be 7 groups:\n",
    "* <1.50m: Less than 1.50m\t\n",
    "* 1.50m +: 1.50m and above\n",
    "* 1.60m +: 1.60m and above\n",
    "* 1.70m +: 1.70m and above\n",
    "* 1.80m +: 1.80m and above\n",
    "* 1.90m +: 1.90m and above\n",
    "* Missing (For null values)"
   ]
  },
  {
   "cell_type": "code",
   "execution_count": 38,
   "metadata": {},
   "outputs": [],
   "source": [
    "# define a function to recode height\n",
    "def get_height_group(height):\n",
    "    height_group = ''\n",
    "    if (height < 150.0):\n",
    "        height_group = '<1.50m'\n",
    "    elif (height >= 150.0 and height <= 159.9):\n",
    "        height_group = '1.50m +'\n",
    "    elif (height >= 160.0 and height <= 169.9):\n",
    "        height_group = '1.60m +'\n",
    "    elif (height >= 170.0 and height <= 179.9):\n",
    "        height_group = '1.70m +'\n",
    "    elif (height >= 180.0 and height <= 189.9):\n",
    "        height_group = '1.80m +'\n",
    "    elif (height >= 190.0 and height <= 199.9):\n",
    "        height_group = '1.90m +'\n",
    "    else: \n",
    "        height_group = 'Missing'\n",
    "    return height_group\n",
    "\n",
    "# add the new column called age_group and apply the above function\n",
    "afib_df['height_group'] = afib_df['height'].apply(get_height_group)"
   ]
  },
  {
   "cell_type": "markdown",
   "metadata": {},
   "source": [
    "Likewise, we'll create a grouped variable for weight called weight_group. There will be 7 groups:\n",
    "* <60kg: Less than 60kg\t\n",
    "* 60kg +: 60kg and above\n",
    "* 70kg +: 70kg and above\n",
    "* 80kg +: 80kg and above\n",
    "* 90kg +: 90kg and above\n",
    "* 100kg +: 100kg and above\n",
    "* Missing (For null values)"
   ]
  },
  {
   "cell_type": "code",
   "execution_count": 39,
   "metadata": {},
   "outputs": [],
   "source": [
    "# define a function to recode weight\n",
    "def get_weight_group(weight):\n",
    "    weight_group = ''\n",
    "    if (weight < 60.0):\n",
    "        weight_group = '<60kg'\n",
    "    elif (weight >= 60.0 and weight <= 69.9):\n",
    "        weight_group = '60kg +'\n",
    "    elif (weight >= 70.0 and weight <= 79.9):\n",
    "        weight_group = '70kg +'\n",
    "    elif (weight >= 80.0 and weight <= 89.9):\n",
    "        weight_group = '80kg +'\n",
    "    elif (weight >= 90.0 and weight <= 99.9):\n",
    "        weight_group = '90kg +'\n",
    "    elif (weight >= 100.0):\n",
    "        weight_group = '100kg +'\n",
    "    else: \n",
    "        weight_group = 'Missing'\n",
    "    return weight_group\n",
    "\n",
    "# add the new column called age_group and apply the above function\n",
    "afib_df['weight_group'] = afib_df['weight'].apply(get_weight_group)"
   ]
  },
  {
   "cell_type": "markdown",
   "metadata": {},
   "source": [
    "We also want to get a year for each record; thus, creating a grouped variable called recording_year."
   ]
  },
  {
   "cell_type": "code",
   "execution_count": 40,
   "metadata": {},
   "outputs": [],
   "source": [
    "# get year from recording_date\n",
    "afib_df['recording_year'] = pd.to_datetime(afib_df['recording_date']).dt.to_period('Y')"
   ]
  },
  {
   "cell_type": "code",
   "execution_count": 41,
   "metadata": {
    "scrolled": false
   },
   "outputs": [
    {
     "data": {
      "text/html": [
       "<div>\n",
       "<style scoped>\n",
       "    .dataframe tbody tr th:only-of-type {\n",
       "        vertical-align: middle;\n",
       "    }\n",
       "\n",
       "    .dataframe tbody tr th {\n",
       "        vertical-align: top;\n",
       "    }\n",
       "\n",
       "    .dataframe thead th {\n",
       "        text-align: right;\n",
       "    }\n",
       "</style>\n",
       "<table border=\"1\" class=\"dataframe\">\n",
       "  <thead>\n",
       "    <tr style=\"text-align: right;\">\n",
       "      <th></th>\n",
       "      <th>diagnosi</th>\n",
       "      <th>ritmi</th>\n",
       "      <th>age</th>\n",
       "      <th>sex</th>\n",
       "      <th>height</th>\n",
       "      <th>weight</th>\n",
       "      <th>recording_date</th>\n",
       "      <th>heart_axis</th>\n",
       "      <th>validated_by_human</th>\n",
       "      <th>strat_fold</th>\n",
       "      <th>age_group</th>\n",
       "      <th>height_group</th>\n",
       "      <th>weight_group</th>\n",
       "      <th>recording_year</th>\n",
       "    </tr>\n",
       "  </thead>\n",
       "  <tbody>\n",
       "    <tr>\n",
       "      <th>0</th>\n",
       "      <td>STACH</td>\n",
       "      <td>2</td>\n",
       "      <td>54.0</td>\n",
       "      <td>0</td>\n",
       "      <td>NaN</td>\n",
       "      <td>NaN</td>\n",
       "      <td>1993-09-01 11:31:17</td>\n",
       "      <td>MID</td>\n",
       "      <td>0</td>\n",
       "      <td>6</td>\n",
       "      <td>50-59 Years</td>\n",
       "      <td>Missing</td>\n",
       "      <td>Missing</td>\n",
       "      <td>1993</td>\n",
       "    </tr>\n",
       "    <tr>\n",
       "      <th>1</th>\n",
       "      <td>AFLT</td>\n",
       "      <td>1</td>\n",
       "      <td>54.0</td>\n",
       "      <td>0</td>\n",
       "      <td>NaN</td>\n",
       "      <td>NaN</td>\n",
       "      <td>1993-09-01 11:31:17</td>\n",
       "      <td>MID</td>\n",
       "      <td>0</td>\n",
       "      <td>6</td>\n",
       "      <td>50-59 Years</td>\n",
       "      <td>Missing</td>\n",
       "      <td>Missing</td>\n",
       "      <td>1993</td>\n",
       "    </tr>\n",
       "    <tr>\n",
       "      <th>2</th>\n",
       "      <td>SR</td>\n",
       "      <td>0</td>\n",
       "      <td>55.0</td>\n",
       "      <td>0</td>\n",
       "      <td>NaN</td>\n",
       "      <td>NaN</td>\n",
       "      <td>1992-06-09 15:52:36</td>\n",
       "      <td>LAD</td>\n",
       "      <td>1</td>\n",
       "      <td>10</td>\n",
       "      <td>50-59 Years</td>\n",
       "      <td>Missing</td>\n",
       "      <td>Missing</td>\n",
       "      <td>1992</td>\n",
       "    </tr>\n",
       "    <tr>\n",
       "      <th>3</th>\n",
       "      <td>STACH</td>\n",
       "      <td>2</td>\n",
       "      <td>29.0</td>\n",
       "      <td>1</td>\n",
       "      <td>164.0</td>\n",
       "      <td>56.0</td>\n",
       "      <td>1997-02-08 18:33:30</td>\n",
       "      <td>NaN</td>\n",
       "      <td>1</td>\n",
       "      <td>1</td>\n",
       "      <td>20-29 Years</td>\n",
       "      <td>1.60m +</td>\n",
       "      <td>&lt;60kg</td>\n",
       "      <td>1997</td>\n",
       "    </tr>\n",
       "    <tr>\n",
       "      <th>4</th>\n",
       "      <td>SBRAD</td>\n",
       "      <td>2</td>\n",
       "      <td>57.0</td>\n",
       "      <td>0</td>\n",
       "      <td>NaN</td>\n",
       "      <td>NaN</td>\n",
       "      <td>1994-09-13 10:21:14</td>\n",
       "      <td>MID</td>\n",
       "      <td>0</td>\n",
       "      <td>1</td>\n",
       "      <td>50-59 Years</td>\n",
       "      <td>Missing</td>\n",
       "      <td>Missing</td>\n",
       "      <td>1994</td>\n",
       "    </tr>\n",
       "  </tbody>\n",
       "</table>\n",
       "</div>"
      ],
      "text/plain": [
       "  diagnosi  ritmi   age  sex  height  weight       recording_date heart_axis  \\\n",
       "0    STACH      2  54.0    0     NaN     NaN  1993-09-01 11:31:17        MID   \n",
       "1     AFLT      1  54.0    0     NaN     NaN  1993-09-01 11:31:17        MID   \n",
       "2       SR      0  55.0    0     NaN     NaN  1992-06-09 15:52:36        LAD   \n",
       "3    STACH      2  29.0    1   164.0    56.0  1997-02-08 18:33:30        NaN   \n",
       "4    SBRAD      2  57.0    0     NaN     NaN  1994-09-13 10:21:14        MID   \n",
       "\n",
       "   validated_by_human  strat_fold    age_group height_group weight_group  \\\n",
       "0                   0           6  50-59 Years      Missing      Missing   \n",
       "1                   0           6  50-59 Years      Missing      Missing   \n",
       "2                   1          10  50-59 Years      Missing      Missing   \n",
       "3                   1           1  20-29 Years      1.60m +        <60kg   \n",
       "4                   0           1  50-59 Years      Missing      Missing   \n",
       "\n",
       "  recording_year  \n",
       "0           1993  \n",
       "1           1993  \n",
       "2           1992  \n",
       "3           1997  \n",
       "4           1994  "
      ]
     },
     "execution_count": 41,
     "metadata": {},
     "output_type": "execute_result"
    }
   ],
   "source": [
    "# check afib_df\n",
    "afib_df.head()"
   ]
  },
  {
   "cell_type": "code",
   "execution_count": 42,
   "metadata": {},
   "outputs": [
    {
     "data": {
      "text/plain": [
       "(6428, 14)"
      ]
     },
     "execution_count": 42,
     "metadata": {},
     "output_type": "execute_result"
    }
   ],
   "source": [
    "# check shape\n",
    "afib_df.shape"
   ]
  },
  {
   "cell_type": "markdown",
   "metadata": {},
   "source": [
    "Now we can write the modified dataframe to the new csv file, so we can use it for EDA."
   ]
  },
  {
   "cell_type": "code",
   "execution_count": 43,
   "metadata": {},
   "outputs": [],
   "source": [
    "afib_df.to_csv('../../../data/afib_data/new_coorteeqsrafva.csv', index=False)"
   ]
  },
  {
   "cell_type": "code",
   "execution_count": 44,
   "metadata": {},
   "outputs": [
    {
     "data": {
      "text/plain": [
       "array([[[-0.005,  0.135,  0.14 , ..., -0.21 , -0.145, -0.08 ],\n",
       "        [-0.005,  0.135,  0.14 , ..., -0.21 , -0.145, -0.08 ],\n",
       "        [-0.005,  0.135,  0.14 , ..., -0.21 , -0.145, -0.08 ],\n",
       "        ...,\n",
       "        [ 0.03 , -0.045, -0.075, ..., -0.02 , -0.035, -0.045],\n",
       "        [ 0.03 , -0.045, -0.075, ..., -0.02 , -0.035, -0.045],\n",
       "        [ 0.03 , -0.045, -0.075, ..., -0.02 , -0.035, -0.045]],\n",
       "\n",
       "       [[-0.005,  0.135,  0.14 , ..., -0.21 , -0.145, -0.08 ],\n",
       "        [-0.005,  0.135,  0.14 , ..., -0.21 , -0.145, -0.08 ],\n",
       "        [-0.005,  0.135,  0.14 , ..., -0.21 , -0.145, -0.08 ],\n",
       "        ...,\n",
       "        [ 0.03 , -0.045, -0.075, ..., -0.02 , -0.035, -0.045],\n",
       "        [ 0.03 , -0.045, -0.075, ..., -0.02 , -0.035, -0.045],\n",
       "        [ 0.03 , -0.045, -0.075, ..., -0.02 , -0.035, -0.045]],\n",
       "\n",
       "       [[-0.17 , -0.13 ,  0.04 , ..., -0.14 , -0.05 , -0.03 ],\n",
       "        [-0.17 , -0.13 ,  0.04 , ..., -0.14 , -0.05 , -0.03 ],\n",
       "        [-0.17 , -0.13 ,  0.04 , ..., -0.14 , -0.05 , -0.03 ],\n",
       "        ...,\n",
       "        [ 0.065,  0.065,  0.   , ...,  0.06 ,  0.035,  0.035],\n",
       "        [ 0.065,  0.065,  0.   , ...,  0.06 ,  0.035,  0.035],\n",
       "        [ 0.065,  0.065,  0.   , ...,  0.06 ,  0.035,  0.035]],\n",
       "\n",
       "       ...,\n",
       "\n",
       "       [[ 0.095,  0.025, -0.07 , ...,  0.135,  0.05 ,  0.06 ],\n",
       "        [ 0.095,  0.025, -0.07 , ...,  0.135,  0.05 ,  0.06 ],\n",
       "        [ 0.095,  0.025, -0.07 , ...,  0.135,  0.05 ,  0.06 ],\n",
       "        ...,\n",
       "        [-0.04 , -0.065, -0.025, ..., -0.22 , -0.08 , -0.075],\n",
       "        [-0.04 , -0.065, -0.025, ..., -0.22 , -0.08 , -0.075],\n",
       "        [-0.04 , -0.065, -0.025, ..., -0.22 , -0.08 , -0.075]],\n",
       "\n",
       "       [[-0.145,  0.15 ,  0.295, ...,  0.3  ,  0.06 ,  0.02 ],\n",
       "        [-0.145,  0.15 ,  0.295, ...,  0.3  ,  0.06 ,  0.02 ],\n",
       "        [-0.145,  0.15 ,  0.295, ...,  0.3  ,  0.06 ,  0.02 ],\n",
       "        ...,\n",
       "        [ 0.075, -0.245, -0.32 , ..., -0.305, -0.25 , -0.105],\n",
       "        [ 0.075, -0.245, -0.32 , ..., -0.305, -0.25 , -0.105],\n",
       "        [ 0.075, -0.245, -0.32 , ..., -0.305, -0.25 , -0.105]],\n",
       "\n",
       "       [[ 0.075,  0.015, -0.06 , ...,  0.075, -0.09 , -0.005],\n",
       "        [ 0.075,  0.015, -0.06 , ...,  0.075, -0.09 , -0.005],\n",
       "        [ 0.075,  0.015, -0.06 , ...,  0.075, -0.09 , -0.005],\n",
       "        ...,\n",
       "        [-0.105, -0.125, -0.02 , ..., -0.15 , -0.145, -0.075],\n",
       "        [-0.105, -0.125, -0.02 , ..., -0.15 , -0.145, -0.075],\n",
       "        [-0.105, -0.125, -0.02 , ..., -0.15 , -0.145, -0.075]]])"
      ]
     },
     "execution_count": 44,
     "metadata": {},
     "output_type": "execute_result"
    }
   ],
   "source": [
    "# read in npy file \n",
    "ecgeq_arr = np.load('../../../data/afib_data/ecgeq-500hzsrfava.npy')\n",
    "ecgeq_arr"
   ]
  },
  {
   "cell_type": "code",
   "execution_count": 45,
   "metadata": {},
   "outputs": [
    {
     "data": {
      "text/plain": [
       "(6428, 5000, 12)"
      ]
     },
     "execution_count": 45,
     "metadata": {},
     "output_type": "execute_result"
    }
   ],
   "source": [
    "ecgeq_arr.shape"
   ]
  },
  {
   "cell_type": "markdown",
   "metadata": {},
   "source": [
    "This is a 3D array, which contains **6428 layers, 5000 rows, and 12 columns**. 12 columns represent for 12 leads, which are lead I, II, III, aVF, aVR, aVL, V1, V2, V3, V4, V5, V6. Leads I, II, III, aVR, aVL, aVF are denoted the limb leads while the V1, V2, V3, V4, V5, and V6 are precordial leads."
   ]
  }
 ],
 "metadata": {
  "kernelspec": {
   "display_name": "Python 3",
   "language": "python",
   "name": "python3"
  },
  "language_info": {
   "codemirror_mode": {
    "name": "ipython",
    "version": 3
   },
   "file_extension": ".py",
   "mimetype": "text/x-python",
   "name": "python",
   "nbconvert_exporter": "python",
   "pygments_lexer": "ipython3",
   "version": "3.7.3"
  }
 },
 "nbformat": 4,
 "nbformat_minor": 2
}
